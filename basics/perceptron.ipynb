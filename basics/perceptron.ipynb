{
 "cells": [
  {
   "cell_type": "markdown",
   "id": "fb69120d-98cd-4ba9-af12-4b922291bcde",
   "metadata": {},
   "source": [
    "In the 1950s, the perceptron (Rosenblatt , 1958 , 1962 ) became the ﬁrst model that could learn the weights deﬁning the categories given examples of inputs from each category."
   ]
  },
  {
   "cell_type": "markdown",
   "id": "c787493d-de48-47cf-a7ec-c9bca2a7800c",
   "metadata": {},
   "source": [
    "These models would learn a set of weights w1 , . . . , wn and compute their output\n",
    "f(x,w) = x1w1 + · · · + xnwn"
   ]
  },
  {
   "cell_type": "markdown",
   "id": "b65d139d-43d6-454c-b18d-535dc563c3da",
   "metadata": {},
   "source": [
    "Thus, perceptron is a LINEAR model. Linear models have many limitations. Most famously, they cannot learn the\n",
    "XOR function, where f ([0, 1], w) = 1 and f([1, 0], w) = 1 but f([1, 1], w) = 0\n",
    "and f ([0, 0], w) = 0."
   ]
  }
 ],
 "metadata": {
  "kernelspec": {
   "display_name": "Python 3 (ipykernel)",
   "language": "python",
   "name": "python3"
  },
  "language_info": {
   "codemirror_mode": {
    "name": "ipython",
    "version": 3
   },
   "file_extension": ".py",
   "mimetype": "text/x-python",
   "name": "python",
   "nbconvert_exporter": "python",
   "pygments_lexer": "ipython3",
   "version": "3.8.10"
  }
 },
 "nbformat": 4,
 "nbformat_minor": 5
}
