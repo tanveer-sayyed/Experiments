{
 "cells": [
  {
   "cell_type": "markdown",
   "id": "7b55a67a-b579-4f34-ab8e-7c6f65a4b126",
   "metadata": {},
   "source": [
    "Hinton et al. , 2006"
   ]
  },
  {
   "cell_type": "code",
   "execution_count": null,
   "id": "47ddd034-e945-4d14-b1f1-7f5af4e7673c",
   "metadata": {},
   "outputs": [],
   "source": []
  }
 ],
 "metadata": {
  "kernelspec": {
   "display_name": "Python 3 (ipykernel)",
   "language": "python",
   "name": "python3"
  },
  "language_info": {
   "codemirror_mode": {
    "name": "ipython",
    "version": 3
   },
   "file_extension": ".py",
   "mimetype": "text/x-python",
   "name": "python",
   "nbconvert_exporter": "python",
   "pygments_lexer": "ipython3",
   "version": "3.8.10"
  }
 },
 "nbformat": 4,
 "nbformat_minor": 5
}
