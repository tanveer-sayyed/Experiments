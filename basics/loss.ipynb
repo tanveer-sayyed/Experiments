{
 "cells": [
  {
   "cell_type": "markdown",
   "id": "ca8f6793-0ab8-407c-b86c-89cf0cac01d8",
   "metadata": {},
   "source": [
    "loss is single number (normalisedNegativeLogLikelihood) that defines the quality of the model. Can a single number, ever, asses this quality?"
   ]
  },
  {
   "cell_type": "markdown",
   "id": "371a8eeb-2722-42a0-b572-af9355b735d7",
   "metadata": {},
   "source": [
    "Only floats are inputs to neural nets."
   ]
  },
  {
   "cell_type": "code",
   "execution_count": null,
   "id": "95bec02a-27c0-4834-a09e-8c6ae0148eea",
   "metadata": {},
   "outputs": [],
   "source": []
  }
 ],
 "metadata": {
  "kernelspec": {
   "display_name": "Python 3 (ipykernel)",
   "language": "python",
   "name": "python3"
  },
  "language_info": {
   "codemirror_mode": {
    "name": "ipython",
    "version": 3
   },
   "file_extension": ".py",
   "mimetype": "text/x-python",
   "name": "python",
   "nbconvert_exporter": "python",
   "pygments_lexer": "ipython3",
   "version": "3.8.10"
  }
 },
 "nbformat": 4,
 "nbformat_minor": 5
}
