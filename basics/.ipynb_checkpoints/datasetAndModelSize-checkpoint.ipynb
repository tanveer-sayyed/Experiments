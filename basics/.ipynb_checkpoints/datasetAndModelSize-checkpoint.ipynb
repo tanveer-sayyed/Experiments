{
 "cells": [
  {
   "cell_type": "markdown",
   "id": "427bc3a7-90f7-4a1f-b93a-7daf39e94ad5",
   "metadata": {},
   "source": [
    "# Dataset Size"
   ]
  },
  {
   "cell_type": "markdown",
   "id": "85f42d4b-b257-4b36-8109-bec706e1609d",
   "metadata": {},
   "source": [
    "Deep learning was often regarded as being more of an art than\n",
    "a technology and something that only an expert could use, until recently. It is true\n",
    "that some skill is required to get good performance from a deep learning algorithm.\n",
    "Fortunately, the amount of skill required reduces as the amount of training data\n",
    "increases."
   ]
  },
  {
   "cell_type": "markdown",
   "id": "2caef2cd-9b1a-41ee-bf27-e374e31fb1ec",
   "metadata": {},
   "source": [
    "The age of “Big\n",
    "Data” has made machine learning much easier because the key burden of statistical\n",
    "estimation—generalizing well to new data after observing only a small amount\n",
    "of data—has been considerably lightened."
   ]
  },
  {
   "cell_type": "markdown",
   "id": "050d329f-f285-43f7-8944-b63b3cf0219a",
   "metadata": {},
   "source": [
    "Increasing digitization of society has let to an increase in Benchmark datasets ."
   ]
  },
  {
   "cell_type": "markdown",
   "id": "c984506d-3657-4d8a-a681-1d09fe23c912",
   "metadata": {},
   "source": [
    "# Model Size"
   ]
  },
  {
   "cell_type": "markdown",
   "id": "29f7f895-1bee-4808-8d35-fddcf8695133",
   "metadata": {},
   "source": [
    "Animals become intelligent when many of their neurons work together. Thus larger networks are able to achieve higher accuracy on more\n",
    "complex tasks."
   ]
  },
  {
   "cell_type": "code",
   "execution_count": null,
   "id": "240bda72-0cbb-4743-94c6-9b8efc936907",
   "metadata": {},
   "outputs": [],
   "source": []
  }
 ],
 "metadata": {
  "kernelspec": {
   "display_name": "Python 3 (ipykernel)",
   "language": "python",
   "name": "python3"
  },
  "language_info": {
   "codemirror_mode": {
    "name": "ipython",
    "version": 3
   },
   "file_extension": ".py",
   "mimetype": "text/x-python",
   "name": "python",
   "nbconvert_exporter": "python",
   "pygments_lexer": "ipython3",
   "version": "3.8.10"
  }
 },
 "nbformat": 4,
 "nbformat_minor": 5
}
