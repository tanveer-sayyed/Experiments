{
 "cells": [
  {
   "cell_type": "markdown",
   "id": "05cbe9d6-33cf-4d11-8f61-8fdc858874fd",
   "metadata": {},
   "source": [
    "These are needed because machine learning must always deal with uncertain quantities,\n",
    "and sometimes may also need to deal with stochastic (non-deterministic) quantities"
   ]
  },
  {
   "cell_type": "markdown",
   "id": "a71271f6-5810-4d14-ad3a-02d834db27a7",
   "metadata": {},
   "source": [
    "# Probability\n",
    "\n",
    "Probability allows us to **derive** uncertain statements and **reason** in\n",
    "the presence of uncertainty \n",
    "\n",
    "AI uses probability in 2 ways:\n",
    " - probability tell us how AI systems should reason\n",
    " - probability is used understand behavior of proposed AI systems\n"
   ]
  },
  {
   "cell_type": "markdown",
   "id": "22da7aa3-1ecb-40ee-867c-a22459ff7775",
   "metadata": {},
   "source": [
    "# Information Theory\n",
    "\n",
    "It allows us to **quantify** the amount of uncertainty in a probability distribution."
   ]
  },
  {
   "cell_type": "markdown",
   "id": "3214de69-b01e-4299-a656-afff5c52e3a4",
   "metadata": {},
   "source": [
    "# Sources of uncertainity:\n",
    "- Inherent stochasticity in the system being modeled\n",
    "- Incomplete observability (can we observe all of the variables that drive the behavior of the system?)\n",
    "- Incomplete modeling (to reduce uncertainity did the model discard too much information?)"
   ]
  },
  {
   "cell_type": "markdown",
   "id": "934b4a94-b8df-44e8-9151-d14e7eb324b7",
   "metadata": {},
   "source": [
    "# Simplicity\n",
    "\n",
    "It is more practical to use a simple but uncertain rule(*“Most birds ﬂy”*) rather than a complex but certain one (*“Birds ﬂy, except for very young birds that have not yet learned to ﬂy, sick or injured birds that have lost the ability to ﬂy, ﬂightless species of birds\n",
    "including the cassowary, ostrich and kiwi. . . ”*)\n",
    "\n",
    "Simple models are cheap to develop but complex models are difficult to develop, maintain and communicate."
   ]
  },
  {
   "cell_type": "markdown",
   "id": "ec2c3f25-c880-40cd-9f8a-5782882fc436",
   "metadata": {},
   "source": [
    "# Frequentist/Gaussian probability\n",
    "\n",
    "relates directly to the rates at which events occur"
   ]
  },
  {
   "cell_type": "markdown",
   "id": "2715a4ed-8332-411a-9716-d518d39a7a36",
   "metadata": {},
   "source": [
    "# Bayesian probability\n",
    "\n",
    "relates to qualitative levels of certainty"
   ]
  },
  {
   "cell_type": "markdown",
   "id": "42a262fd-592f-4b4f-b232-01ded3966be3",
   "metadata": {},
   "source": [
    "# Golden rule"
   ]
  },
  {
   "cell_type": "markdown",
   "id": "a41e8385-93b1-4a44-b5b4-da96c7b37c9b",
   "metadata": {},
   "source": [
    "When Bayesian probabilities behave exactly the same as frequentist probabilities, then we can be sure that we are dealing with uncertainity with good confidence and with common sense reasoning. Reality is one, Bayesian or Gaussian are just two different means, to achieve the same end."
   ]
  },
  {
   "cell_type": "markdown",
   "id": "90651d45-5b9a-4254-b3fc-680ef72a147e",
   "metadata": {},
   "source": [
    "# Random Variables\n",
    "\n",
    "A random variable is **just** a description of the states that are possible; it\n",
    "**must** be coupled with a probability distribution that speciﬁes how likely each of\n",
    "these states are."
   ]
  },
  {
   "cell_type": "markdown",
   "id": "a7a781b8-7275-48eb-9b83-cb1b1394c7f1",
   "metadata": {},
   "source": [
    "# Probability Distributions\n",
    "\n",
    "The way we describe probability distributions depends on whether the variables are discrete or continuous.\n"
   ]
  },
  {
   "cell_type": "code",
   "execution_count": null,
   "id": "a5f4cdd0-a9f7-4bab-9c5c-439106d2c7c9",
   "metadata": {},
   "outputs": [],
   "source": []
  }
 ],
 "metadata": {
  "kernelspec": {
   "display_name": "Python 3 (ipykernel)",
   "language": "python",
   "name": "python3"
  },
  "language_info": {
   "codemirror_mode": {
    "name": "ipython",
    "version": 3
   },
   "file_extension": ".py",
   "mimetype": "text/x-python",
   "name": "python",
   "nbconvert_exporter": "python",
   "pygments_lexer": "ipython3",
   "version": "3.8.10"
  }
 },
 "nbformat": 4,
 "nbformat_minor": 5
}
