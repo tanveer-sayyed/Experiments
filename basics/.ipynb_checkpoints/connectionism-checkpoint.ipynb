{
 "cells": [
  {
   "cell_type": "markdown",
   "id": "696f3d94-6b3e-4110-9da6-5316f21d570b",
   "metadata": {},
   "source": [
    "The central idea in connectionism is that a large number of simple computational\n",
    "units can achieve intelligent behavior when networked together. This insight\n",
    "applies equally to neurons in biological nervous systems and to hidden units in\n",
    "computational models."
   ]
  },
  {
   "cell_type": "code",
   "execution_count": null,
   "id": "8bf294c0-4958-45ab-8069-0c87042db67d",
   "metadata": {},
   "outputs": [],
   "source": []
  }
 ],
 "metadata": {
  "kernelspec": {
   "display_name": "Python 3 (ipykernel)",
   "language": "python",
   "name": "python3"
  },
  "language_info": {
   "codemirror_mode": {
    "name": "ipython",
    "version": 3
   },
   "file_extension": ".py",
   "mimetype": "text/x-python",
   "name": "python",
   "nbconvert_exporter": "python",
   "pygments_lexer": "ipython3",
   "version": "3.8.10"
  }
 },
 "nbformat": 4,
 "nbformat_minor": 5
}
