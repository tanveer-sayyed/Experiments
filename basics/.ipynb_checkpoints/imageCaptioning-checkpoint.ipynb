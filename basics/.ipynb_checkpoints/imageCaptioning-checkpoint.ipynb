{
 "cells": [
  {
   "cell_type": "code",
   "execution_count": null,
   "id": "36551563-cf11-4cfc-b8b3-95eacf927007",
   "metadata": {},
   "outputs": [],
   "source": [
    "import torch\n",
    "import clip\n",
    "from PIL import Image\n",
    "\n",
    "# Load the CLIP model\n",
    "device = \"cuda\" if torch.cuda.is_available() else \"cpu\"\n",
    "model, preprocess = clip.load('ViT-B/32', device=device)\n",
    "\n",
    "# Load the image and preprocess it\n",
    "image = Image.open(\"example_image.jpg\")\n",
    "image_input = preprocess(image).unsqueeze(0).to(device)\n",
    "\n",
    "# Prepare the caption prompt\n",
    "caption_prompt = \"a photo of a cat sitting on a table\"\n",
    "\n",
    "# Encode the caption prompt using CLIP\n",
    "caption_input = clip.tokenize(caption_prompt).to(device)\n",
    "caption_features = model.encode_text(caption_input)\n",
    "\n",
    "# Calculate the cosine similarity between the image and caption embeddings\n",
    "image_features = model.encode_image(image_input)\n",
    "similarity = (100.0 * image_features @ caption_features.T).softmax(dim=-1)\n",
    "\n",
    "# Get the most likely caption for the image\n",
    "captions = clip.tokenize([\"a cat sitting on a table\"]).to(device)\n",
    "caption_features = model.encode_text(captions)\n",
    "logits_per_image, logits_per_text = model(image_input, caption_features)\n",
    "probs = logits_per_image.softmax(dim=-1).cpu().numpy()\n",
    "most_likely_caption = \" \".join([clip.decode(c.item()) for c in captions[probs.argmax()]])\n",
    "\n",
    "print(\"Most likely caption:\", most_likely_caption)\n"
   ]
  }
 ],
 "metadata": {
  "kernelspec": {
   "display_name": "Python 3 (ipykernel)",
   "language": "python",
   "name": "python3"
  },
  "language_info": {
   "codemirror_mode": {
    "name": "ipython",
    "version": 3
   },
   "file_extension": ".py",
   "mimetype": "text/x-python",
   "name": "python",
   "nbconvert_exporter": "python",
   "pygments_lexer": "ipython3",
   "version": "3.8.10"
  }
 },
 "nbformat": 4,
 "nbformat_minor": 5
}
