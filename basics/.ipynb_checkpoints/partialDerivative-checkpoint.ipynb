{
 "cells": [
  {
   "cell_type": "markdown",
   "id": "4f792197-a4be-4c1c-9d3d-6d1a66d85290",
   "metadata": {},
   "source": [
    "This is an extremely simple example for partial derivatives.\n",
    "\n",
    "These deratives are used while backpropoging the neural network."
   ]
  },
  {
   "cell_type": "code",
   "execution_count": 1,
   "id": "fdacc272",
   "metadata": {},
   "outputs": [
    {
     "name": "stdout",
     "output_type": "stream",
     "text": [
      "tensor(3., requires_grad=True)\n",
      "tensor(4., requires_grad=True)\n",
      "tensor(91., grad_fn=<AddBackward0>)\n",
      "Partial derivative with respect to u:  tensor(43.)\n",
      "Partial derivative with respect to v:  tensor(20.)\n"
     ]
    }
   ],
   "source": [
    "from torch import tensor\n",
    "u = tensor(3., requires_grad=True)\n",
    "v = tensor(4., requires_grad=True)\n",
    " \n",
    "f = u**3 + v**2 + 4*u*v\n",
    " \n",
    "print(u)\n",
    "print(v)\n",
    "print(f)\n",
    " \n",
    "f.backward()\n",
    "print(\"Partial derivative with respect to u: \", u.grad)\n",
    "print(\"Partial derivative with respect to v: \", v.grad)"
   ]
  },
  {
   "cell_type": "markdown",
   "id": "3480d3b2-a09e-476f-af2c-450363199367",
   "metadata": {},
   "source": [
    "\"f\" can be either maximised or minimised depending on values of u and v"
   ]
  },
  {
   "cell_type": "code",
   "execution_count": null,
   "id": "5c3fe946-04fd-41e8-97c2-7f902cd4832b",
   "metadata": {},
   "outputs": [],
   "source": []
  }
 ],
 "metadata": {
  "kernelspec": {
   "display_name": "Python 3 (ipykernel)",
   "language": "python",
   "name": "python3"
  },
  "language_info": {
   "codemirror_mode": {
    "name": "ipython",
    "version": 3
   },
   "file_extension": ".py",
   "mimetype": "text/x-python",
   "name": "python",
   "nbconvert_exporter": "python",
   "pygments_lexer": "ipython3",
   "version": "3.8.10"
  }
 },
 "nbformat": 4,
 "nbformat_minor": 5
}
