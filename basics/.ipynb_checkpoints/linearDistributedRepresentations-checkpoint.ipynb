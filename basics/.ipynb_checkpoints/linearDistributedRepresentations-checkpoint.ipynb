{
 "cells": [
  {
   "cell_type": "markdown",
   "id": "d4744ef4-5435-448d-bcc0-1dcf3c691302",
   "metadata": {},
   "source": [
    "**Problem statement**:\n",
    "\n",
    "Say we have a clock which looks like the image below; each number equidistant from each other. We apply an operation of +3 to number:1 then it should rotate clockwise 3-times. Now at its\n",
    "place we have 4, which is the answer.\n",
    "\n",
    "Inversely if we apply -3 to same number:1 then it should rotate in anti-clockwise direction 3-times,\n",
    "leaving 10 at its place, which is the answer.\n",
    "\n",
    "So the problem is quite simple. Here is a sample for representation."
   ]
  },
  {
   "cell_type": "code",
   "execution_count": 2,
   "id": "4ae7c4ae-5c87-42ec-bb52-1310687db892",
   "metadata": {},
   "outputs": [
    {
     "data": {
      "image/png": "[encoded data removed]",
      "text/plain": [
       "<Figure size 432x288 with 1 Axes>"
      ]
     },
     "metadata": {
      "needs_background": "light"
     },
     "output_type": "display_data"
    }
   ],
   "source": [
    "from math import pi, sin, cos\n",
    "from numpy import array, identity, zeros\n",
    "from matplotlib import pyplot as plt\n",
    "numbers = 12\n",
    "dimensions = 2\n",
    "rotation_angle = 2*pi/numbers\n",
    "positions = {}\n",
    "spatial_points = array([\n",
    "    [\n",
    "        round(cos(n*rotation_angle),2),\n",
    "        round(sin(n*rotation_angle),2)\n",
    "    ] for n in range(numbers)\n",
    "])\n",
    "for n in range(numbers):\n",
    "    x, y = spatial_points[n]\n",
    "    positions[f\"[{round(x,2)}, {round(y,2)}]\"] = n + 1\n",
    "plt.scatter(\n",
    "    x=[p[0] for p in spatial_points],\n",
    "    y=[p[1] for p in spatial_points],\n",
    "    marker=\"*\", color=\"orange\"\n",
    ")\n",
    "for s, (x,y) in enumerate(spatial_points):\n",
    "    plt.text(x=x,y=y,s=positions[f\"[{round(x,2)}, {round(y,2)}]\"])\n",
    "plt.show()"
   ]
  },
  {
   "cell_type": "markdown",
   "id": "478a771e-15bb-4f4f-8f48-593a3e2b4770",
   "metadata": {},
   "source": [
    "Concepts are vectors (n-dimensional) becuase we have \"n\"-things to deal with.\n",
    "\n"
   ]
  },
  {
   "cell_type": "code",
   "execution_count": null,
   "id": "9897b3b1-f724-4c60-a5f2-de33f8509c73",
   "metadata": {},
   "outputs": [],
   "source": [
    "# in our case"
   ]
  },
  {
   "cell_type": "markdown",
   "id": "a897f703-6959-4398-a88a-22d944da08ae",
   "metadata": {},
   "source": [
    "Relations are matrices (n*n dimensional)\n",
    "\n",
    "Why n*n?\n",
    "\n",
    "Each concept must have a relation with remaining concepts, and also some relationship must exists even with itself. So if there are n-concepts we will have n such rows."
   ]
  },
  {
   "cell_type": "code",
   "execution_count": null,
   "id": "94d4e46e-d67d-4531-9721-c0e78e9e9d92",
   "metadata": {},
   "outputs": [],
   "source": []
  },
  {
   "cell_type": "markdown",
   "id": "574f7cc6-4e4e-4d09-80ea-e59d9d639f29",
   "metadata": {},
   "source": [
    "To obtain a new concept we apply a relation to a concept (simply use linear algebra and perform a matrix multiplication)"
   ]
  },
  {
   "cell_type": "code",
   "execution_count": null,
   "id": "db9b59ad-eb42-4f82-884f-96903040de38",
   "metadata": {},
   "outputs": [],
   "source": []
  },
  {
   "cell_type": "markdown",
   "id": "292f682c-de61-4337-8c21-addb2ea63f93",
   "metadata": {},
   "source": [
    "The beauty of this linear multiplication is that this operation is performed in an observation space created by us. \n",
    "\n",
    "Secondly, for the vectors this observation space acts like a direct look-up table to get a discrete observation. Thus, the look-up is noise free.\n",
    "\n",
    "Thirdly this look-up table can be made stronger by learning."
   ]
  },
  {
   "cell_type": "code",
   "execution_count": null,
   "id": "f31cb00b-40c1-4373-8d7d-7096dc35321d",
   "metadata": {},
   "outputs": [],
   "source": []
  },
  {
   "cell_type": "markdown",
   "id": "6b448ae3-1ce9-4f97-960e-48adad044082",
   "metadata": {},
   "source": [
    "But during learning it is important that there is a probability density for arriving at a point within our observation space. so that we have evidence why we *sampled* that point from a set of points after lookin-up to our table. So there must be some (highest)probability of arriving at the point (from a set of points)"
   ]
  },
  {
   "cell_type": "code",
   "execution_count": null,
   "id": "ce6182e7-07f1-4803-b5e8-386ce01ba199",
   "metadata": {},
   "outputs": [],
   "source": []
  },
  {
   "cell_type": "markdown",
   "id": "51111cac-00d0-4352-b005-3ea8e9e59444",
   "metadata": {},
   "source": [
    "This can be easily achieved by introducing a Gaussian noise to our process. Because any point in the Gaussian space is associated with a probability density. So when we sample a point we also have its corresponding probability density."
   ]
  },
  {
   "cell_type": "code",
   "execution_count": null,
   "id": "d221744f-57c7-4c54-b32a-d664425b8179",
   "metadata": {},
   "outputs": [],
   "source": []
  },
  {
   "cell_type": "markdown",
   "id": "9a39682c-007f-4ee9-b953-9c67b1d1f683",
   "metadata": {},
   "source": [
    "Learning, thus, is maximising the probabilities (or minimising the error)."
   ]
  },
  {
   "cell_type": "code",
   "execution_count": null,
   "id": "fa681456-96e0-4d44-9ec5-273fd0651223",
   "metadata": {},
   "outputs": [],
   "source": []
  }
 ],
 "metadata": {
  "kernelspec": {
   "display_name": "Python 3 (ipykernel)",
   "language": "python",
   "name": "python3"
  },
  "language_info": {
   "codemirror_mode": {
    "name": "ipython",
    "version": 3
   },
   "file_extension": ".py",
   "mimetype": "text/x-python",
   "name": "python",
   "nbconvert_exporter": "python",
   "pygments_lexer": "ipython3",
   "version": "3.8.10"
  }
 },
 "nbformat": 4,
 "nbformat_minor": 5
}
