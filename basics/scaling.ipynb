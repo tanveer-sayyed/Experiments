{
 "cells": [
  {
   "cell_type": "markdown",
   "id": "a7f870db-b005-4cc8-9fd9-217a03e19315",
   "metadata": {},
   "source": [
    "https://www.anyscale.com/blog/training-175b-parameter-language-models-at-1000-gpu-scale-with-alpa-and-ray"
   ]
  },
  {
   "cell_type": "code",
   "execution_count": null,
   "id": "f1acf93c-ec24-4907-8163-992f85df22ed",
   "metadata": {},
   "outputs": [],
   "source": []
  }
 ],
 "metadata": {
  "kernelspec": {
   "display_name": "Python 3 (ipykernel)",
   "language": "python",
   "name": "python3"
  },
  "language_info": {
   "codemirror_mode": {
    "name": "ipython",
    "version": 3
   },
   "file_extension": ".py",
   "mimetype": "text/x-python",
   "name": "python",
   "nbconvert_exporter": "python",
   "pygments_lexer": "ipython3",
   "version": "3.8.10"
  }
 },
 "nbformat": 4,
 "nbformat_minor": 5
}
