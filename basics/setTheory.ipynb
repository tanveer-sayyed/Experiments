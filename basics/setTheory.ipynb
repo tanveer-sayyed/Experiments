{
 "cells": [
  {
   "cell_type": "markdown",
   "id": "7b229c73-5039-4253-aa67-5d9c7a6687fe",
   "metadata": {},
   "source": [
    "# Mutually Exclusive\n",
    "\n",
    "Mutually exclusive sets are sets that cannot have any elements in common. In other words, if an element is in one set, it cannot be in the other set. In other words they cannot occur simultaneously.\n",
    "\n",
    "examples of mutually exclusive sets:\n",
    "- the set of all prime numbers and the set of all composite numbers\n",
    "- the set of all red cars and the set of all blue cars\n",
    "- the set of all students who are in the math club and the set of all students who are in the science club\n",
    "- sets is the set of even numbers and the set of odd numbers\n",
    "- set of heads and the set of tails. When a coin is tossed, it can land on heads or tails, but it cannot land on both heads and tails at the same time. Therefore, these sets are mutually exclusive.\n",
    "\n",
    "\n",
    "Mutually exclusive sets are important in probability theory because they can be used to calculate the probability of events. For example, if we know that the probability of flipping a coin and getting heads is 0.5, and the probability of flipping a coin and getting tails is 0.5, then we know that the probability of flipping a coin and getting either heads or tails is 1.0. This is because the two events (heads and tails) are mutually exclusive, so they cannot happen at the same time."
   ]
  },
  {
   "cell_type": "code",
   "execution_count": null,
   "id": "1e7d8b16-1de6-4b61-a07f-29f2e6eff645",
   "metadata": {},
   "outputs": [],
   "source": [
    "Now suppose we have a set of propositions {A 1 , . . . , A n } which on in-\n",
    "formation X are mutually exclusive: p(Ai Aj |X ) = p(A i |X ) δ i j . Show that p(C|(A 1 +\n",
    "A 2 + · · · + A n X ) is a weighted average of the separate plausibilities\n",
    "p(C|A i X ):p(A i |X ) p(C|A i X ).p(C|(A 1 + · · · + A n X )\n",
    " = p(C|A 1 X + A 2 X + · · · + A n X )\n",
    " = i \u0001 i p(A i |X )\n",
    "                                     "
   ]
  }
 ],
 "metadata": {
  "kernelspec": {
   "display_name": "Python 3 (ipykernel)",
   "language": "python",
   "name": "python3"
  },
  "language_info": {
   "codemirror_mode": {
    "name": "ipython",
    "version": 3
   },
   "file_extension": ".py",
   "mimetype": "text/x-python",
   "name": "python",
   "nbconvert_exporter": "python",
   "pygments_lexer": "ipython3",
   "version": "3.8.10"
  }
 },
 "nbformat": 4,
 "nbformat_minor": 5
}
