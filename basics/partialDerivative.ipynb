{
 "cells": [
  {
   "cell_type": "code",
   "execution_count": 1,
   "id": "fdacc272",
   "metadata": {},
   "outputs": [
    {
     "name": "stdout",
     "output_type": "stream",
     "text": [
      "tensor(3., requires_grad=True)\n",
      "tensor(4., requires_grad=True)\n",
      "tensor(91., grad_fn=<AddBackward0>)\n",
      "Partial derivative with respect to u:  tensor(43.)\n",
      "Partial derivative with respect to v:  tensor(20.)\n"
     ]
    }
   ],
   "source": [
    "from torch import tensor\n",
    "u = tensor(3., requires_grad=True)\n",
    "v = tensor(4., requires_grad=True)\n",
    " \n",
    "f = u**3 + v**2 + 4*u*v\n",
    " \n",
    "print(u)\n",
    "print(v)\n",
    "print(f)\n",
    " \n",
    "f.backward()\n",
    "print(\"Partial derivative with respect to u: \", u.grad)\n",
    "print(\"Partial derivative with respect to v: \", v.grad)"
   ]
  },
  {
   "cell_type": "code",
   "execution_count": null,
   "id": "5a712132",
   "metadata": {},
   "outputs": [],
   "source": []
  }
 ],
 "metadata": {
  "kernelspec": {
   "display_name": "Python 3 (ipykernel)",
   "language": "python",
   "name": "python3"
  },
  "language_info": {
   "codemirror_mode": {
    "name": "ipython",
    "version": 3
   },
   "file_extension": ".py",
   "mimetype": "text/x-python",
   "name": "python",
   "nbconvert_exporter": "python",
   "pygments_lexer": "ipython3",
   "version": "3.8.10"
  }
 },
 "nbformat": 4,
 "nbformat_minor": 5
}
