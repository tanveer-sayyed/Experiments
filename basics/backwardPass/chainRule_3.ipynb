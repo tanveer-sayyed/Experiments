{
 "cells": [
  {
   "cell_type": "markdown",
   "id": "32d2e5a9-ee66-4ee0-a077-59b0bb954edc",
   "metadata": {},
   "source": [
    "Learnings from chainRule_2.ipynb are implemented here"
   ]
  },
  {
   "cell_type": "code",
   "execution_count": 1,
   "id": "f407a361-4b63-4b64-baaa-452f4fa39ecf",
   "metadata": {},
   "outputs": [],
   "source": [
    "class Value:\n",
    "\n",
    "    def __init__(self, data, _children=(), _op='', label=''):\n",
    "        self.data = data\n",
    "        self.grad = 0.0 # during forward pass grad must be set to zero\n",
    "        self._backward = lambda: None\n",
    "        self._prev = set(_children)\n",
    "        self._op = _op\n",
    "        self.label = label\n",
    "\n",
    "    def __repr__(self):\n",
    "        return self.label + \"[\" + str(self.data) + \"] \" + str(self.grad)\n",
    "\n",
    "    def __add__(self, other):\n",
    "        other = other if isinstance(other, Value) else Value(other)\n",
    "        out = Value(\n",
    "            _op=\"+\",\n",
    "            _children=(self, other),\n",
    "            data=self.data+other.data,\n",
    "            )\n",
    "        def backward():\n",
    "            self.grad += 1.0 * out.grad  # gradients are accumulated here, hence we go for zero_grad()\n",
    "            other.grad += 1.0 * out.grad # to flush them out, else we will get incorrect results\n",
    "        self._backward = backward\n",
    "        return out\n",
    "\n",
    "    def __mul__(self, other):\n",
    "        other = other if isinstance(other, Value) else Value(other)\n",
    "        out = Value(\n",
    "            _op=\"*\",\n",
    "            _children=(self, other),\n",
    "            data=self.data*other.data,\n",
    "            )\n",
    "        def backward():\n",
    "            self.grad = other.data * out.grad # gradients are accumulated here, hence we go for zero_grad()\n",
    "            other.grad = self.data * out.grad # to flush them out, else we will get incorrect results\n",
    "        self._backward = backward\n",
    "        return out\n",
    "\n",
    "    def backward(self):\n",
    "        topo = []\n",
    "        visited = set()\n",
    "        def build_topo(v):\n",
    "            if v not in visited: \n",
    "                visited.add(v)\n",
    "                for child in v._prev: build_topo(child)\n",
    "                topo.append(v)\n",
    "        build_topo(self)\n",
    "        self.grad = 1.0  # grad can be implicitly created only for scalar outputs,\n",
    "                         # in this case LOSS, else chain rule can never begin,\n",
    "                         # rather gradient descent can never begin\n",
    "        for node in reversed(topo): node._backward()"
   ]
  },
  {
   "cell_type": "code",
   "execution_count": 2,
   "id": "542113b3-850d-4982-a909-3e58e0e3df1f",
   "metadata": {},
   "outputs": [
    {
     "name": "stdout",
     "output_type": "stream",
     "text": [
      "\n",
      "    a         b -----\n",
      "    |         |     |\n",
      "    ---> + <---     |\n",
      "         c          |\n",
      "         |          |\n",
      "         ---> + <---\n",
      "              |\n",
      "              z\n",
      "\n",
      "a[3.0] 1.0\n",
      "b[-5.0] 2.0\n",
      "c[-2.0] 1.0\n",
      "z[-7.0] 1.0\n"
     ]
    }
   ],
   "source": [
    "a = Value(data=3.00, label=\"a\")  # leaf node\n",
    "b = Value(-5.00, label=\"b\") # leaf node\n",
    "print(\n",
    "\"\"\"\n",
    "    a         b -----\n",
    "    |         |     |\n",
    "    ---> + <---     |\n",
    "         c          |\n",
    "         |          |\n",
    "         ---> + <---\n",
    "              |\n",
    "              z\n",
    "\"\"\"\n",
    ")\n",
    "c = a + b; c.label = \"c\"\n",
    "z = c + b; z.label = \"z\"\n",
    "z.backward()\n",
    "for x in [a, b, c, z]: print(x)"
   ]
  },
  {
   "cell_type": "code",
   "execution_count": 3,
   "id": "3641fefe-f16d-4ee2-92e7-85b6764702d7",
   "metadata": {},
   "outputs": [
    {
     "name": "stdout",
     "output_type": "stream",
     "text": [
      "\n",
      "    a         b -----\n",
      "    |         |     |\n",
      "    ---> + <---     |\n",
      "         c          |\n",
      "         |          |\n",
      "         ---> * <---\n",
      "              |\n",
      "              z\n",
      "\n",
      "a[3.0] -5.0\n",
      "b[-5.0] -7.0\n",
      "c[-2.0] -5.0\n",
      "z[10.0] 1.0\n"
     ]
    }
   ],
   "source": [
    "a = Value(data=3.00, label=\"a\")  # leaf node\n",
    "b = Value(-5.00, label=\"b\") # leaf node\n",
    "print(\n",
    "\"\"\"\n",
    "    a         b -----\n",
    "    |         |     |\n",
    "    ---> + <---     |\n",
    "         c          |\n",
    "         |          |\n",
    "         ---> * <---\n",
    "              |\n",
    "              z\n",
    "\"\"\"\n",
    ")\n",
    "c = a + b; c.label = \"c\"\n",
    "z = c * b; z.label = \"z\"\n",
    "z.backward()\n",
    "for x in [a, b, c, z]: print(x)"
   ]
  }
 ],
 "metadata": {
  "kernelspec": {
   "display_name": "Python 3 (ipykernel)",
   "language": "python",
   "name": "python3"
  },
  "language_info": {
   "codemirror_mode": {
    "name": "ipython",
    "version": 3
   },
   "file_extension": ".py",
   "mimetype": "text/x-python",
   "name": "python",
   "nbconvert_exporter": "python",
   "pygments_lexer": "ipython3",
   "version": "3.8.10"
  }
 },
 "nbformat": 4,
 "nbformat_minor": 5
}
