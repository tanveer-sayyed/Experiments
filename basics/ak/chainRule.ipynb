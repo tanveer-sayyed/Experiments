{
 "cells": [
  {
   "cell_type": "code",
   "execution_count": 1,
   "id": "cbc9530b-8935-4eb8-9af8-2429eb8ed608",
   "metadata": {},
   "outputs": [],
   "source": [
    "from chainRuleUtils import *"
   ]
  },
  {
   "cell_type": "code",
   "execution_count": 2,
   "id": "78c38093-95f9-456c-b8c7-f7dd36f97b0f",
   "metadata": {},
   "outputs": [],
   "source": [
    "class Value():\n",
    "\n",
    "    def __init__(self, data, _op=\"\", label=\"\", children=()):\n",
    "        self._op = _op\n",
    "        self.grad = 0.0\n",
    "        self.data = data\n",
    "        self.label = label\n",
    "        self.children = children\n",
    "\n",
    "    def __add__(self, other):\n",
    "        c = self.data + other.data\n",
    "        return Value(c, \"+\", other.label, (self.label, other.label))\n",
    "    \n",
    "    def __mul__(self, other):\n",
    "        c = self.data * other.data\n",
    "        return Value(c, \"*\", other.label, (self.label, other.label))\n",
    "\n",
    "    def __repr__(self):\n",
    "        x = f\"{self.label} : Value({self.data})\"\n",
    "        try: return f\"{x} <-- [{self.children[0]}{self._op}{self.children[1]}]\"\n",
    "        except: return x\n",
    "\n",
    "a = Value(3.00, label=\"a\")  # leaf node\n",
    "b = Value(-5.00, label=\"b\") # leaf node\n",
    "d = Value(2.00, label=\"d\")  # leaf node"
   ]
  },
  {
   "cell_type": "code",
   "execution_count": 3,
   "id": "4b1a6739-86b2-4caf-976c-984342cc9f2a",
   "metadata": {},
   "outputs": [
    {
     "name": "stdout",
     "output_type": "stream",
     "text": [
      "\n",
      "    a         b\n",
      "    |         |\n",
      "    ---> + <---\n",
      "         |\n",
      "         z\n",
      "\n",
      "a : Value(3.0)\n",
      "b : Value(-5.0)\n",
      "gradients:\n",
      "\tda/dz :  0.9999999999998899\n",
      "\tdb/dz :  1.000000000000334\n"
     ]
    }
   ],
   "source": [
    "print(\n",
    "\"\"\"\n",
    "    a         b\n",
    "    |         |\n",
    "    ---> + <---\n",
    "         |\n",
    "         z\n",
    "\"\"\"\n",
    ")\n",
    "for x in [a, b]: print(x)\n",
    "print(\"gradients:\")\n",
    "print(\"\\tda/dz : \", grad_of_a_during_addition(a, b))\n",
    "print(\"\\tdb/dz : \", grad_of_b_during_addition(a, b))"
   ]
  },
  {
   "cell_type": "code",
   "execution_count": 4,
   "id": "c8a011f9-b625-4833-933f-a85fb1d28ee9",
   "metadata": {},
   "outputs": [
    {
     "name": "stdout",
     "output_type": "stream",
     "text": [
      "\n",
      "    a         b\n",
      "    |         |\n",
      "    ---> * <---\n",
      "         |\n",
      "         z\n",
      "\n",
      "a : Value(3.001)\n",
      "b : Value(-4.999)\n",
      "gradients:\n",
      "\tda/dz :  -4.998999999999754\n",
      "\tdb/dz :  3.0020000000003932\n"
     ]
    }
   ],
   "source": [
    "print(\n",
    "\"\"\"\n",
    "    a         b\n",
    "    |         |\n",
    "    ---> * <---\n",
    "         |\n",
    "         z\n",
    "\"\"\"\n",
    ")\n",
    "for x in [a, b]: print(x)\n",
    "print(\"gradients:\")\n",
    "print(\"\\tda/dz : \", grad_of_a_during_multiplication(a, b))\n",
    "print(\"\\tdb/dz : \", grad_of_b_during_multiplication(a, b))"
   ]
  },
  {
   "cell_type": "code",
   "execution_count": 5,
   "id": "a89c0e44-8e52-4431-aaa3-d3c52f4ef03b",
   "metadata": {},
   "outputs": [
    {
     "name": "stdout",
     "output_type": "stream",
     "text": [
      "\n",
      "    a         b\n",
      "    |         |\n",
      "    ---> + <---\n",
      "         c         d\n",
      "         |         |\n",
      "         ---> * <---\n",
      "              |\n",
      "              z\n",
      "\n",
      "a : Value(3.002)\n",
      "b : Value(-4.997999999999999)\n",
      "c : Value(-1.9959999999999996) <-- [a+b]\n",
      "d : Value(2.0)\n",
      "gradients:\n",
      "\tdc/dz :  1.9999999999997797\n",
      "\tdd/dz :  -1.9959999999996647\n",
      "\tda/dz [da/dc*dc/dz]:  2.0009999999994754\n",
      "\tdb/dz [db/dc*dc/dz]:  2.0010000000008077\n"
     ]
    }
   ],
   "source": [
    "print(\n",
    "\"\"\"\n",
    "    a         b\n",
    "    |         |\n",
    "    ---> + <---\n",
    "         c         d\n",
    "         |         |\n",
    "         ---> * <---\n",
    "              |\n",
    "              z\n",
    "\"\"\"\n",
    ")\n",
    "c = a + b; c.label = \"c\"\n",
    "for x in [a, b, c, d]: print(x)\n",
    "print(\"gradients:\")\n",
    "print(\"\\tdc/dz : \", grad_of_c1(a, b, d)) # c is an intermediate node\n",
    "print(\"\\tdd/dz : \", grad_of_d1(a, b, d))\n",
    "print(\"\\tda/dz [da/dc*dc/dz]: \", grad_of_a1(a, b, d)) # because a passes through c\n",
    "print(\"\\tdb/dz [db/dc*dc/dz]: \", grad_of_b1(a, b, d)) # because b passes through c\n"
   ]
  },
  {
   "cell_type": "code",
   "execution_count": 6,
   "id": "51eb40ef-af3d-4141-b2ef-9803a0a1ea3c",
   "metadata": {},
   "outputs": [
    {
     "name": "stdout",
     "output_type": "stream",
     "text": [
      "\n",
      "    a         b\n",
      "    |         |\n",
      "    ---> * <---\n",
      "         c         d\n",
      "         |         |\n",
      "         ---> + <---\n",
      "              |\n",
      "              z\n",
      "\n",
      "a : Value(3.0029999999999997)\n",
      "b : Value(-4.996999999999999)\n",
      "c : Value(-15.005990999999995) <-- [a*b]\n",
      "d : Value(2.001)\n",
      "gradients:\n",
      "\tdc/dz :  0.9999999999994458\n",
      "\tdd/dz :  0.9999999999994458\n",
      "\tda/dz [da/dc*dc/dz]:  -4.996999999999474\n",
      "\tdb/dz [db/dc*dc/dz]:  3.004000000000673\n"
     ]
    }
   ],
   "source": [
    "print(\n",
    "\"\"\"\n",
    "    a         b\n",
    "    |         |\n",
    "    ---> * <---\n",
    "         c         d\n",
    "         |         |\n",
    "         ---> + <---\n",
    "              |\n",
    "              z\n",
    "\"\"\"\n",
    ")\n",
    "c = a * b; c.label = \"c\"\n",
    "for x in [a, b, c, d]: print(x)\n",
    "print(\"gradients:\")\n",
    "print(\"\\tdc/dz : \", grad_of_c2(a, b, d)) # c is an intermediate node\n",
    "print(\"\\tdd/dz : \", grad_of_d2(a, b, d))\n",
    "print(\"\\tda/dz [da/dc*dc/dz]: \", grad_of_a2(a, b, d)) # because a passes through c\n",
    "print(\"\\tdb/dz [db/dc*dc/dz]: \", grad_of_b2(a, b, d)) # because b passes through c\n"
   ]
  },
  {
   "cell_type": "code",
   "execution_count": 7,
   "id": "cbbaa3c4-b063-4b04-9011-f07deadcf911",
   "metadata": {},
   "outputs": [
    {
     "name": "stdout",
     "output_type": "stream",
     "text": [
      "\n",
      "    a         b\n",
      "    |         |\n",
      "    ---> * <---\n",
      "         c         d\n",
      "         |         |\n",
      "         ---> * <---\n",
      "              |\n",
      "              z\n",
      "\n",
      "a : Value(3.0039999999999996)\n",
      "b : Value(-4.995999999999999)\n",
      "c : Value(-15.007983999999993) <-- [a*b]\n",
      "d : Value(2.002)\n",
      "gradients:\n",
      "\tdc/dz :  2.0020000000009475\n",
      "\tdd/dz :  -15.00798399999681\n",
      "\tda/dz [da/dc*dc/dz]:  -10.00698800000066\n",
      "\tdb/dz [db/dc*dc/dz]:  6.019015000003236\n"
     ]
    }
   ],
   "source": [
    "print(\n",
    "\"\"\"\n",
    "    a         b\n",
    "    |         |\n",
    "    ---> * <---\n",
    "         c         d\n",
    "         |         |\n",
    "         ---> * <---\n",
    "              |\n",
    "              z\n",
    "\"\"\"\n",
    ")\n",
    "c = a * b; c.label = \"c\"\n",
    "for x in [a, b, c, d]: print(x)\n",
    "print(\"gradients:\")\n",
    "print(\"\\tdc/dz : \", grad_of_c3(a, b, d)) # c is an intermediate node\n",
    "print(\"\\tdd/dz : \", grad_of_d3(a, b, d))\n",
    "print(\"\\tda/dz [da/dc*dc/dz]: \", grad_of_a3(a, b, d)) # because a passes through c\n",
    "print(\"\\tdb/dz [db/dc*dc/dz]: \", grad_of_b3(a, b, d)) # because b passes through c"
   ]
  },
  {
   "cell_type": "code",
   "execution_count": 8,
   "id": "d7127b36-3634-4346-af7d-240b6eed9b4a",
   "metadata": {},
   "outputs": [
    {
     "name": "stdout",
     "output_type": "stream",
     "text": [
      "\n",
      "    a         b\n",
      "    |         |\n",
      "    ---> + <---\n",
      "         c         d\n",
      "         |         |\n",
      "         ---> + <---\n",
      "              |\n",
      "              z\n",
      "\n",
      "a : Value(3.0049999999999994)\n",
      "b : Value(-4.994999999999998)\n",
      "c : Value(-1.9899999999999989) <-- [a+b]\n",
      "d : Value(2.0029999999999997)\n",
      "gradients:\n",
      "\tdc/dz :  0.9999999999998899\n",
      "\tdd/dz :  0.9999999999998899\n",
      "\tda/dz [da/dc*dc/dz]:  0.9999999999998899\n",
      "\tdb/dz [db/dc*dc/dz]:  1.000000000000334\n"
     ]
    }
   ],
   "source": [
    "print(\n",
    "\"\"\"\n",
    "    a         b\n",
    "    |         |\n",
    "    ---> + <---\n",
    "         c         d\n",
    "         |         |\n",
    "         ---> + <---\n",
    "              |\n",
    "              z\n",
    "\"\"\"\n",
    ")\n",
    "c = a + b; c.label = \"c\"\n",
    "for x in [a, b, c, d]: print(x)\n",
    "print(\"gradients:\")\n",
    "print(\"\\tdc/dz : \", grad_of_c4(a, b, d)) # c is an intermediate node\n",
    "print(\"\\tdd/dz : \", grad_of_d4(a, b, d))\n",
    "print(\"\\tda/dz [da/dc*dc/dz]: \", grad_of_a4(a, b, d)) # because a passes through c\n",
    "print(\"\\tdb/dz [db/dc*dc/dz]: \", grad_of_b4(a, b, d)) # because b passes through c\n"
   ]
  },
  {
   "cell_type": "code",
   "execution_count": 9,
   "id": "191d0513-996e-4d77-8ad1-7702f632cc57",
   "metadata": {},
   "outputs": [
    {
     "name": "stdout",
     "output_type": "stream",
     "text": [
      "\n",
      "    a         b -----\n",
      "    |         |     |\n",
      "    ---> + <---     |\n",
      "         c          |\n",
      "         |          |\n",
      "         ---> + <---\n",
      "              |\n",
      "              z\n",
      "\n",
      "a : Value(3.0059999999999993)\n",
      "b : Value(-4.993999999999998)\n",
      "c : Value(-1.9879999999999987) <-- [a+b]\n",
      "gradients:\n",
      "\tdc/dz :  1.000000000000334\n",
      "\tda/dz [da/dc*dc/dz]:  1.000000000000334\n",
      "\tdb/dz [db/dc*dc/dz + db/dz]:  2.000000000000668\n"
     ]
    }
   ],
   "source": [
    "print(\n",
    "\"\"\"\n",
    "    a         b -----\n",
    "    |         |     |\n",
    "    ---> + <---     |\n",
    "         c          |\n",
    "         |          |\n",
    "         ---> + <---\n",
    "              |\n",
    "              z\n",
    "\"\"\"\n",
    ")\n",
    "c = a + b; c.label = \"c\"\n",
    "for x in [a, b, c]: print(x)\n",
    "print(\"gradients:\")\n",
    "print(\"\\tdc/dz : \", grad_of_c5(a, b)) # c is an intermediate node\n",
    "print(\"\\tda/dz [da/dc*dc/dz]: \", grad_of_a5(a, b)) # because a passes through c\n",
    "print(\"\\tdb/dz [db/dc*dc/dz + db/dz]: \", grad_of_b5(a, b)) # because b has two paths,\n",
    "                                                           # gradients of both are accumulated"
   ]
  },
  {
   "cell_type": "code",
   "execution_count": 10,
   "id": "8180407b-75d7-4804-884c-953d58b58324",
   "metadata": {},
   "outputs": [
    {
     "name": "stdout",
     "output_type": "stream",
     "text": [
      "\n",
      "    a         b -----\n",
      "    |         |     |\n",
      "    ---> + <---     |\n",
      "         c          |\n",
      "         |          |\n",
      "         ---> * <---\n",
      "              |\n",
      "              z\n",
      "\n",
      "a : Value(3.0069999999999992)\n",
      "b : Value(-4.992999999999998)\n",
      "c : Value(-1.9859999999999984) <-- [a+b]\n",
      "gradients:\n",
      "\tdc/dz :  -4.992999999998915\n",
      "\tda/dz [da/dc*dc/dz]:  -4.992999999998915\n",
      "\tdb/dz [da/dc*dc/dz + db/dz]:  -6.9770000000026755\n"
     ]
    }
   ],
   "source": [
    "print(\n",
    "\"\"\"\n",
    "    a         b -----\n",
    "    |         |     |\n",
    "    ---> + <---     |\n",
    "         c          |\n",
    "         |          |\n",
    "         ---> * <---\n",
    "              |\n",
    "              z\n",
    "\"\"\"\n",
    ")\n",
    "c = a + b; c.label = \"c\"\n",
    "for x in [a, b, c]: print(x)\n",
    "print(\"gradients:\")\n",
    "print(\"\\tdc/dz : \", grad_of_c6(a, b)) # c is an intermediate node\n",
    "print(\"\\tda/dz [da/dc*dc/dz]: \", grad_of_a6(a, b)) # because a passes through c\n",
    "print(\"\\tdb/dz [da/dc*dc/dz + db/dz]: \", grad_of_b6(a, b)) # because b has two paths,\n",
    "                                                           # gradients of both are accumulated"
   ]
  }
 ],
 "metadata": {
  "kernelspec": {
   "display_name": "Python 3 (ipykernel)",
   "language": "python",
   "name": "python3"
  },
  "language_info": {
   "codemirror_mode": {
    "name": "ipython",
    "version": 3
   },
   "file_extension": ".py",
   "mimetype": "text/x-python",
   "name": "python",
   "nbconvert_exporter": "python",
   "pygments_lexer": "ipython3",
   "version": "3.8.10"
  }
 },
 "nbformat": 4,
 "nbformat_minor": 5
}
