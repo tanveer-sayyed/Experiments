{
 "cells": [
  {
   "cell_type": "markdown",
   "id": "cf7d0be5-27fc-4454-8e92-1bcdca3ae407",
   "metadata": {},
   "source": [
    "reference: https://www.youtube.com/watch?v=VMj-3S1tku0"
   ]
  },
  {
   "cell_type": "code",
   "execution_count": 1,
   "id": "cbc9530b-8935-4eb8-9af8-2429eb8ed608",
   "metadata": {},
   "outputs": [],
   "source": [
    "from chainRuleUtils import *"
   ]
  },
  {
   "cell_type": "code",
   "execution_count": 2,
   "id": "4bb69a86-55f3-42c5-bc89-921350cc6663",
   "metadata": {},
   "outputs": [],
   "source": [
    "class Value():\n",
    "\n",
    "    def __init__(self, data, _op=\"\", label=\"\", children=()):\n",
    "        self._op = _op\n",
    "        self.grad = 0.0\n",
    "        self.data = data\n",
    "        self.label = label\n",
    "        self.children = children\n",
    "\n",
    "    def __add__(self, other):\n",
    "        c = self.data + other.data\n",
    "        return Value(c, \"+\", other.label, (self.label, other.label))\n",
    "    \n",
    "    def __mul__(self, other):\n",
    "        c = self.data * other.data\n",
    "        return Value(c, \"*\", other.label, (self.label, other.label))\n",
    "\n",
    "    def __repr__(self):\n",
    "        x = f\"{self.label} : Value({self.data})\"\n",
    "        try: return f\"{x} <-- [{self.children[0]}{self._op}{self.children[1]}]\"\n",
    "        except: return x\n",
    "\n",
    "a = Value(3.00, label=\"a\")  # leaf node\n",
    "b = Value(-5.00, label=\"b\") # leaf node\n",
    "d = Value(2.00, label=\"d\")  # leaf node"
   ]
  },
  {
   "cell_type": "code",
   "execution_count": 3,
   "id": "28dc3ee2-e446-416b-979f-c02488873e23",
   "metadata": {},
   "outputs": [
    {
     "name": "stdout",
     "output_type": "stream",
     "text": [
      "\n",
      "    a         b\n",
      "    |         |\n",
      "    ---> + <---\n",
      "         |\n",
      "         z\n",
      "\n",
      "a : Value(3.0)\n",
      "b : Value(-5.0)\n",
      "gradients:\n",
      "\tdz/da :  0.9999999999998899\n",
      "\tdz/db :  1.000000000000334\n"
     ]
    }
   ],
   "source": [
    "print(\n",
    "\"\"\"\n",
    "    a         b\n",
    "    |         |\n",
    "    ---> + <---\n",
    "         |\n",
    "         z\n",
    "\"\"\"\n",
    ")\n",
    "for x in [a, b]: print(x)\n",
    "print(\"gradients:\")\n",
    "print(\"\\tdz/da : \", grad_of_a_during_addition(a, b))\n",
    "print(\"\\tdz/db : \", grad_of_b_during_addition(a, b))"
   ]
  },
  {
   "cell_type": "code",
   "execution_count": 4,
   "id": "aa8bf51f-112d-47cd-a7f4-fa6286f78f2c",
   "metadata": {},
   "outputs": [
    {
     "name": "stdout",
     "output_type": "stream",
     "text": [
      "\n",
      "    a         b\n",
      "    |         |\n",
      "    ---> * <---\n",
      "         |\n",
      "         z\n",
      "\n",
      "a : Value(3.001)\n",
      "b : Value(-4.999)\n",
      "gradients:\n",
      "\tdz/da :  -4.998999999999754\n",
      "\tdz/db :  3.0020000000003932\n"
     ]
    }
   ],
   "source": [
    "print(\n",
    "\"\"\"\n",
    "    a         b\n",
    "    |         |\n",
    "    ---> * <---\n",
    "         |\n",
    "         z\n",
    "\"\"\"\n",
    ")\n",
    "for x in [a, b]: print(x)\n",
    "print(\"gradients:\")\n",
    "print(\"\\tdz/da : \", grad_of_a_during_multiplication(a, b))\n",
    "print(\"\\tdz/db : \", grad_of_b_during_multiplication(a, b))"
   ]
  },
  {
   "cell_type": "code",
   "execution_count": 5,
   "id": "aa9c0401-45ef-411d-8bd4-93836bab43c5",
   "metadata": {},
   "outputs": [
    {
     "name": "stdout",
     "output_type": "stream",
     "text": [
      "\n",
      "    a         b\n",
      "    |         |\n",
      "    ---> + <---\n",
      "         c         d\n",
      "         |         |\n",
      "         ---> * <---\n",
      "              |\n",
      "              z\n",
      "\n",
      "a : Value(3.002)\n",
      "b : Value(-4.997999999999999)\n",
      "c : Value(-1.9959999999999996) <-- [a+b]\n",
      "d : Value(2.0)\n",
      "gradients:\n",
      "\tdz/dc :  1.9999999999997797\n",
      "\tdz/dd :  -1.9959999999996647\n",
      "\tdz/da [dz/dc*dc/da]:  2.0009999999994754\n",
      "\tdz/db [dz/dc*dc/db]:  2.0010000000008077\n"
     ]
    }
   ],
   "source": [
    "print(\n",
    "\"\"\"\n",
    "    a         b\n",
    "    |         |\n",
    "    ---> + <---\n",
    "         c         d\n",
    "         |         |\n",
    "         ---> * <---\n",
    "              |\n",
    "              z\n",
    "\"\"\"\n",
    ")\n",
    "c = a + b; c.label = \"c\"\n",
    "for x in [a, b, c, d]: print(x)\n",
    "print(\"gradients:\")\n",
    "print(\"\\tdz/dc : \", grad_of_c1(a, b, d)) # c is an intermediate node\n",
    "print(\"\\tdz/dd : \", grad_of_d1(a, b, d))\n",
    "print(\"\\tdz/da [dz/dc*dc/da]: \", grad_of_a1(a, b, d)) # because a passes through c\n",
    "print(\"\\tdz/db [dz/dc*dc/db]: \", grad_of_b1(a, b, d)) # because b passes through c"
   ]
  },
  {
   "cell_type": "code",
   "execution_count": 6,
   "id": "15a4c425-0b80-407f-8029-27f543d85ba6",
   "metadata": {},
   "outputs": [
    {
     "name": "stdout",
     "output_type": "stream",
     "text": [
      "\n",
      "    a         b\n",
      "    |         |\n",
      "    ---> * <---\n",
      "         c         d\n",
      "         |         |\n",
      "         ---> + <---\n",
      "              |\n",
      "              z\n",
      "\n",
      "a : Value(3.0029999999999997)\n",
      "b : Value(-4.996999999999999)\n",
      "c : Value(-15.005990999999995) <-- [a*b]\n",
      "d : Value(2.001)\n",
      "gradients:\n",
      "\tdz/dc :  0.9999999999994458\n",
      "\tdz/dd :  0.9999999999994458\n",
      "\tdz/da [dz/dc*dc/da]:  -4.996999999999474\n",
      "\tdz/db [dz/dc*dc/db]:  3.004000000000673\n"
     ]
    }
   ],
   "source": [
    "print(\n",
    "\"\"\"\n",
    "    a         b\n",
    "    |         |\n",
    "    ---> * <---\n",
    "         c         d\n",
    "         |         |\n",
    "         ---> + <---\n",
    "              |\n",
    "              z\n",
    "\"\"\"\n",
    ")\n",
    "c = a * b; c.label = \"c\"\n",
    "for x in [a, b, c, d]: print(x)\n",
    "print(\"gradients:\")\n",
    "print(\"\\tdz/dc : \", grad_of_c2(a, b, d)) # c is an intermediate node\n",
    "print(\"\\tdz/dd : \", grad_of_d2(a, b, d))\n",
    "print(\"\\tdz/da [dz/dc*dc/da]: \", grad_of_a2(a, b, d)) # because a passes through c\n",
    "print(\"\\tdz/db [dz/dc*dc/db]: \", grad_of_b2(a, b, d)) # because b passes through c"
   ]
  },
  {
   "cell_type": "code",
   "execution_count": 7,
   "id": "79e94adb-da43-4f49-8661-a0711293c30c",
   "metadata": {},
   "outputs": [
    {
     "name": "stdout",
     "output_type": "stream",
     "text": [
      "\n",
      "    a         b\n",
      "    |         |\n",
      "    ---> * <---\n",
      "         c         d\n",
      "         |         |\n",
      "         ---> * <---\n",
      "              |\n",
      "              z\n",
      "\n",
      "a : Value(3.0039999999999996)\n",
      "b : Value(-4.995999999999999)\n",
      "c : Value(-15.007983999999993) <-- [a*b]\n",
      "d : Value(2.002)\n",
      "gradients:\n",
      "\tdz/dc :  2.0020000000009475\n",
      "\tdz/dd :  -15.00798399999681\n",
      "\tdz/da [dz/dc*dc/da]:  -10.00698800000066\n",
      "\tdz/db [dz/dc*dc/db]:  6.019015000003236\n"
     ]
    }
   ],
   "source": [
    "print(\n",
    "\"\"\"\n",
    "    a         b\n",
    "    |         |\n",
    "    ---> * <---\n",
    "         c         d\n",
    "         |         |\n",
    "         ---> * <---\n",
    "              |\n",
    "              z\n",
    "\"\"\"\n",
    ")\n",
    "c = a * b; c.label = \"c\"\n",
    "for x in [a, b, c, d]: print(x)\n",
    "print(\"gradients:\")\n",
    "print(\"\\tdz/dc : \", grad_of_c3(a, b, d)) # c is an intermediate node\n",
    "print(\"\\tdz/dd : \", grad_of_d3(a, b, d))\n",
    "print(\"\\tdz/da [dz/dc*dc/da]: \", grad_of_a3(a, b, d)) # because a passes through c\n",
    "print(\"\\tdz/db [dz/dc*dc/db]: \", grad_of_b3(a, b, d)) # because b passes through c"
   ]
  },
  {
   "cell_type": "code",
   "execution_count": 8,
   "id": "9586a312-63b1-4404-85b5-30818fb343d0",
   "metadata": {},
   "outputs": [
    {
     "name": "stdout",
     "output_type": "stream",
     "text": [
      "\n",
      "    a         b\n",
      "    |         |\n",
      "    ---> + <---\n",
      "         c         d\n",
      "         |         |\n",
      "         ---> + <---\n",
      "              |\n",
      "              z\n",
      "\n",
      "a : Value(3.0049999999999994)\n",
      "b : Value(-4.994999999999998)\n",
      "c : Value(-1.9899999999999989) <-- [a+b]\n",
      "d : Value(2.0029999999999997)\n",
      "gradients:\n",
      "\tdz/dc :  0.9999999999998899\n",
      "\tdz/dd :  0.9999999999998899\n",
      "\tdz/da [dz/dc*dc/da]:  0.9999999999998899\n",
      "\tdz/db [dz/dc*dc/db]:  1.000000000000334\n"
     ]
    }
   ],
   "source": [
    "print(\n",
    "\"\"\"\n",
    "    a         b\n",
    "    |         |\n",
    "    ---> + <---\n",
    "         c         d\n",
    "         |         |\n",
    "         ---> + <---\n",
    "              |\n",
    "              z\n",
    "\"\"\"\n",
    ")\n",
    "c = a + b; c.label = \"c\"\n",
    "for x in [a, b, c, d]: print(x)\n",
    "print(\"gradients:\")\n",
    "print(\"\\tdz/dc : \", grad_of_c4(a, b, d)) # c is an intermediate node\n",
    "print(\"\\tdz/dd : \", grad_of_d4(a, b, d))\n",
    "print(\"\\tdz/da [dz/dc*dc/da]: \", grad_of_a4(a, b, d)) # because a passes through c\n",
    "print(\"\\tdz/db [dz/dc*dc/db]: \", grad_of_b4(a, b, d)) # because b passes through c"
   ]
  },
  {
   "cell_type": "code",
   "execution_count": 9,
   "id": "502850b9-3623-494c-85a0-a921e54a10bc",
   "metadata": {},
   "outputs": [
    {
     "name": "stdout",
     "output_type": "stream",
     "text": [
      "\n",
      "    a         b -----\n",
      "    |         |     |\n",
      "    ---> + <---     |\n",
      "         c          |\n",
      "         |          |\n",
      "         ---> + <---\n",
      "              |\n",
      "              z\n",
      "\n",
      "a : Value(3.0059999999999993)\n",
      "b : Value(-4.993999999999998)\n",
      "c : Value(-1.9879999999999987) <-- [a+b]\n",
      "gradients:\n",
      "\tdz/dc :  1.000000000000334\n",
      "\tdz/da [dz/dc*dc/da]:  1.000000000000334\n",
      "\tdz/db [dz/dc*dc/db + dz/db]:  2.000000000000668\n"
     ]
    }
   ],
   "source": [
    "print(\n",
    "\"\"\"\n",
    "    a         b -----\n",
    "    |         |     |\n",
    "    ---> + <---     |\n",
    "         c          |\n",
    "         |          |\n",
    "         ---> + <---\n",
    "              |\n",
    "              z\n",
    "\"\"\"\n",
    ")\n",
    "c = a + b; c.label = \"c\"\n",
    "for x in [a, b, c]: print(x)\n",
    "print(\"gradients:\")\n",
    "print(\"\\tdz/dc : \", grad_of_c5(a, b)) # c is an intermediate node\n",
    "print(\"\\tdz/da [dz/dc*dc/da]: \", grad_of_a5(a, b)) # because a passes through c\n",
    "print(\"\\tdz/db [dz/dc*dc/db + dz/db]: \", grad_of_b5(a, b)) # because b has two paths,\n",
    "                                                           # gradients of both are accumulated"
   ]
  },
  {
   "cell_type": "code",
   "execution_count": 10,
   "id": "21d86fa7-1b9f-4cc1-9994-844244734891",
   "metadata": {},
   "outputs": [
    {
     "name": "stdout",
     "output_type": "stream",
     "text": [
      "\n",
      "    a         b -----\n",
      "    |         |     |\n",
      "    ---> + <---     |\n",
      "         c          |\n",
      "         |          |\n",
      "         ---> * <---\n",
      "              |\n",
      "              z\n",
      "\n",
      "a : Value(3.0069999999999992)\n",
      "b : Value(-4.992999999999998)\n",
      "c : Value(-1.9859999999999984) <-- [a+b]\n",
      "gradients:\n",
      "\tdz/dc :  -4.992999999998915\n",
      "\tdz/da [dz/dc*dc/da]:  -4.992999999998915\n",
      "\tdz/db [dz/dc*dc/db + dz/db]:  -6.9770000000026755\n"
     ]
    }
   ],
   "source": [
    "print(\n",
    "\"\"\"\n",
    "    a         b -----\n",
    "    |         |     |\n",
    "    ---> + <---     |\n",
    "         c          |\n",
    "         |          |\n",
    "         ---> * <---\n",
    "              |\n",
    "              z\n",
    "\"\"\"\n",
    ")\n",
    "c = a + b; c.label = \"c\"\n",
    "for x in [a, b, c]: print(x)\n",
    "print(\"gradients:\")\n",
    "print(\"\\tdz/dc : \", grad_of_c6(a, b)) # c is an intermediate node\n",
    "print(\"\\tdz/da [dz/dc*dc/da]: \", grad_of_a6(a, b)) # because a passes through c\n",
    "print(\"\\tdz/db [dz/dc*dc/db + dz/db]: \", grad_of_b6(a, b)) # because b has two paths,\n",
    "                                                           # gradients of both are accumulated"
   ]
  },
  {
   "cell_type": "code",
   "execution_count": 11,
   "id": "d57799dd-bf11-4a96-ae39-41efd181cd77",
   "metadata": {},
   "outputs": [
    {
     "name": "stdout",
     "output_type": "stream",
     "text": [
      "Now let's see backpropogation in action. Let's nudge the final input by\n",
      "tweaking the leaf-nodes in a postive direction. This should\n",
      "cause the final output to increase as well.\n",
      "    a         b\n",
      "    |         |\n",
      "    ---> * <---\n",
      "         c         d\n",
      "         |         |\n",
      "         ---> * <---\n",
      "              |\n",
      "              z\n",
      "\n",
      "a : Value(3.007999999999999)\n",
      "b : Value(-4.991999999999997)\n",
      "c : Value(-15.015935999999988) <-- [a*b]\n",
      "d : Value(2.0039999999999996)\n",
      "initial : z : Value(-30.09193574399997) <-- [c*d]\n",
      "lets increase it by a grad of 0.01; z should now be less negative\n",
      "final : d : Value(-26.604083653091294) <-- [c*d]\n",
      "\n",
      "PS: in neural network the actual data are never changed, its their weights that are updated\n"
     ]
    }
   ],
   "source": [
    "print(\"\"\"Now let's see backpropogation in action. Let's nudge the final input by\n",
    "tweaking the leaf-nodes in a postive direction. This should\n",
    "cause the final output to increase as well.\n",
    "    a         b\n",
    "    |         |\n",
    "    ---> * <---\n",
    "         c         d\n",
    "         |         |\n",
    "         ---> * <---\n",
    "              |\n",
    "              z\n",
    "\"\"\"\n",
    ")\n",
    "c = a * b; c.label = \"c\"\n",
    "for x in [a, b, c, d]: print(x)\n",
    "z = c * d; z.label = \"z\"\n",
    "print(\"initial :\", z)\n",
    "a.grad = grad_of_a3(a, b, d)\n",
    "b.grad = grad_of_b3(a, b, d)\n",
    "c.grad = grad_of_c3(a, b, d)\n",
    "d.grad = grad_of_d3(a, b, d)\n",
    "\n",
    "print(\"lets increase it by a grad of 0.01; z should now be less negative\")\n",
    "a.data += 0.01 * a.grad\n",
    "b.data += 0.01 * b.grad\n",
    "c.data += 0.01 * c.grad\n",
    "d.data += 0.01 * d.grad\n",
    "\n",
    "c = a * b; c.label = \"c\"\n",
    "z = c * d\n",
    "print(\"final :\", z)\n",
    "print(\"\\nPS: in neural network the actual data are never changed, its their weights that are updated\")"
   ]
  }
 ],
 "metadata": {
  "kernelspec": {
   "display_name": "Python 3 (ipykernel)",
   "language": "python",
   "name": "python3"
  },
  "language_info": {
   "codemirror_mode": {
    "name": "ipython",
    "version": 3
   },
   "file_extension": ".py",
   "mimetype": "text/x-python",
   "name": "python",
   "nbconvert_exporter": "python",
   "pygments_lexer": "ipython3",
   "version": "3.8.10"
  }
 },
 "nbformat": 4,
 "nbformat_minor": 5
}
