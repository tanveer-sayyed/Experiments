{
 "cells": [
  {
   "cell_type": "markdown",
   "id": "a8fcd094-e1db-44e3-97d1-a671385bece7",
   "metadata": {},
   "source": [
    "https://www.benfrederickson.com/numerical-optimization/"
   ]
  },
  {
   "cell_type": "markdown",
   "id": "5e8f0436-0992-4c5b-9dbb-86674ebff9a1",
   "metadata": {},
   "source": [
    "https://www.bauer.uh.edu/rsusmel/phd/num-opt.pdf"
   ]
  },
  {
   "cell_type": "code",
   "execution_count": null,
   "id": "e76db0fa-7fb9-439d-95f1-65625b81d9a0",
   "metadata": {},
   "outputs": [],
   "source": []
  }
 ],
 "metadata": {
  "kernelspec": {
   "display_name": "Python 3 (ipykernel)",
   "language": "python",
   "name": "python3"
  },
  "language_info": {
   "codemirror_mode": {
    "name": "ipython",
    "version": 3
   },
   "file_extension": ".py",
   "mimetype": "text/x-python",
   "name": "python",
   "nbconvert_exporter": "python",
   "pygments_lexer": "ipython3",
   "version": "3.8.10"
  }
 },
 "nbformat": 4,
 "nbformat_minor": 5
}
