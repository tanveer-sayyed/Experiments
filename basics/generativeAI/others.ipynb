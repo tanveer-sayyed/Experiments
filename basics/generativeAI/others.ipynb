{
 "cells": [
  {
   "cell_type": "markdown",
   "id": "5b61746d-9c5e-4a0a-ad3d-5db31a0ef6b3",
   "metadata": {},
   "source": [
    "RNN - text generation, speech synthesis, music composition"
   ]
  },
  {
   "cell_type": "markdown",
   "id": "c54a816f-fbe2-48e7-8b25-4d537df37444",
   "metadata": {},
   "source": [
    "LSTM - natural language processing, speech recognition"
   ]
  },
  {
   "cell_type": "markdown",
   "id": "e5c5ac34-c35b-44c6-a7a4-e900245bcfe4",
   "metadata": {},
   "source": [
    "Transformer"
   ]
  },
  {
   "cell_type": "code",
   "execution_count": null,
   "id": "1b76b89c-167d-4b3b-96d3-e7768de3b93f",
   "metadata": {},
   "outputs": [],
   "source": []
  }
 ],
 "metadata": {
  "kernelspec": {
   "display_name": "Python 3 (ipykernel)",
   "language": "python",
   "name": "python3"
  },
  "language_info": {
   "codemirror_mode": {
    "name": "ipython",
    "version": 3
   },
   "file_extension": ".py",
   "mimetype": "text/x-python",
   "name": "python",
   "nbconvert_exporter": "python",
   "pygments_lexer": "ipython3",
   "version": "3.8.10"
  }
 },
 "nbformat": 4,
 "nbformat_minor": 5
}
