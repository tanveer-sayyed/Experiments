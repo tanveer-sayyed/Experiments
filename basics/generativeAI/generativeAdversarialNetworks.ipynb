{
 "cells": [
  {
   "cell_type": "markdown",
   "id": "c36881c3-96e4-461a-a308-8ec2877ce607",
   "metadata": {},
   "source": [
    "GANs consists of two neural networks a generator and a discriminator that compete against each other in a **zero-sum** game. The generator creates\n",
    "synthetic data while the discriminator attempts to distinguish between real and\n",
    "generated data. GANs have shown remarkable success.\n",
    "<br>\n",
    "Usage:\n",
    "- generating high quality images\n",
    "- generating high quality music\n",
    "- generating text"
   ]
  },
  {
   "cell_type": "code",
   "execution_count": null,
   "id": "25e34eff-5a0d-4908-9fa4-8a6666530b8d",
   "metadata": {},
   "outputs": [],
   "source": []
  }
 ],
 "metadata": {
  "kernelspec": {
   "display_name": "Python 3 (ipykernel)",
   "language": "python",
   "name": "python3"
  },
  "language_info": {
   "codemirror_mode": {
    "name": "ipython",
    "version": 3
   },
   "file_extension": ".py",
   "mimetype": "text/x-python",
   "name": "python",
   "nbconvert_exporter": "python",
   "pygments_lexer": "ipython3",
   "version": "3.8.10"
  }
 },
 "nbformat": 4,
 "nbformat_minor": 5
}
