{
 "cells": [
  {
   "cell_type": "markdown",
   "id": "e54d8757-9175-484d-a436-192353482303",
   "metadata": {},
   "source": [
    "RBMs are type of unsupervised learning model that can learn a probability distribution over input data. They consist of 2 layers - a visible layer that represents input data and a hidden layer that captures latent features.\n",
    "<br>\n",
    "Uses:\n",
    "- feature learning\n",
    "- image synthesis"
   ]
  },
  {
   "cell_type": "code",
   "execution_count": null,
   "id": "3e3586d2-a571-4a22-91de-37dad3ac096b",
   "metadata": {},
   "outputs": [],
   "source": []
  }
 ],
 "metadata": {
  "kernelspec": {
   "display_name": "Python 3 (ipykernel)",
   "language": "python",
   "name": "python3"
  },
  "language_info": {
   "codemirror_mode": {
    "name": "ipython",
    "version": 3
   },
   "file_extension": ".py",
   "mimetype": "text/x-python",
   "name": "python",
   "nbconvert_exporter": "python",
   "pygments_lexer": "ipython3",
   "version": "3.8.10"
  }
 },
 "nbformat": 4,
 "nbformat_minor": 5
}
