{
 "cells": [
  {
   "cell_type": "markdown",
   "id": "c0fdbb3f-0d4a-4ef8-9c99-1db073eb3358",
   "metadata": {},
   "source": [
    "VAEs combines deep learning with Bayesian inference to learn complex data\n",
    "distributions. They consists of an encoder, which maps input data to a latent\n",
    "space and decoder which reconstructs data from latent space.\n",
    "<br>\n",
    "Usage:\n",
    "- style transfer\n",
    "- image synthesis\n",
    "- text generation"
   ]
  },
  {
   "cell_type": "code",
   "execution_count": null,
   "id": "279279a6-9846-4eea-af37-891878a4c060",
   "metadata": {},
   "outputs": [],
   "source": []
  }
 ],
 "metadata": {
  "kernelspec": {
   "display_name": "Python 3 (ipykernel)",
   "language": "python",
   "name": "python3"
  },
  "language_info": {
   "codemirror_mode": {
    "name": "ipython",
    "version": 3
   },
   "file_extension": ".py",
   "mimetype": "text/x-python",
   "name": "python",
   "nbconvert_exporter": "python",
   "pygments_lexer": "ipython3",
   "version": "3.8.10"
  }
 },
 "nbformat": 4,
 "nbformat_minor": 5
}
