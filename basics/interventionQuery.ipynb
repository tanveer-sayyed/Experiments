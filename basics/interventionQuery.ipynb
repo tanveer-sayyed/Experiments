{
 "cells": [
  {
   "cell_type": "markdown",
   "id": "42828ff2-d150-48c5-a299-fdcc37e7c4c2",
   "metadata": {},
   "source": [
    "It is important not to confuse conditional probability with computing what\n",
    "would happen if some action were undertaken. The conditional probability that\n",
    "a person is from Germany given that they speak German is quite high, but if\n",
    "a randomly selected person is taught to speak German, their country of origin\n",
    "does not change. Computing the consequences of an action is called making an\n",
    "intervention query. Intervention queries are the domain of causal modeling."
   ]
  },
  {
   "cell_type": "code",
   "execution_count": null,
   "id": "1afc9e63-b50e-4640-b3fa-44f603f3f171",
   "metadata": {},
   "outputs": [],
   "source": []
  }
 ],
 "metadata": {
  "kernelspec": {
   "display_name": "Python 3 (ipykernel)",
   "language": "python",
   "name": "python3"
  },
  "language_info": {
   "codemirror_mode": {
    "name": "ipython",
    "version": 3
   },
   "file_extension": ".py",
   "mimetype": "text/x-python",
   "name": "python",
   "nbconvert_exporter": "python",
   "pygments_lexer": "ipython3",
   "version": "3.8.10"
  }
 },
 "nbformat": 4,
 "nbformat_minor": 5
}
