{
 "cells": [
  {
   "cell_type": "markdown",
   "id": "442e14de-8bbd-43ac-a57a-10b1d85f5b94",
   "metadata": {},
   "source": [
    "In this example, we create an instance of torch.nn.Embedding with num_embeddings=10 and embedding_dim=5, which means that we will have 10 unique integer indices in our vocabulary, and each index will be associated with a learnable vector of size 5. We then pass in an input tensor of shape (2, 3) containing integer indices representing two sequences of three words each.\n",
    "\n",
    "The call to embedding(input_indices) looks up the embeddings for each index in the input tensor, resulting in a tensor of shape (2, 3, 5) containing the embeddings for each word in each sequence.\n",
    "\n",
    "The embeddings themselves are learnable parameters of the module, and their values are updated during training using backpropagation. By training a neural network to predict some task based on these embeddings, we can learn representations of the input data that are optimized for that task."
   ]
  },
  {
   "cell_type": "code",
   "execution_count": null,
   "id": "2e170407-0fd3-479e-9d82-60ac7baa2226",
   "metadata": {},
   "outputs": [],
   "source": [
    "import torch\n",
    "\n",
    "vocab_size = 10\n",
    "embedding_dim = 5\n",
    "input_indices = torch.LongTensor([[1, 2, 3], [2, 4, 6]])\n",
    "\n",
    "embedding = torch.nn.Embedding(num_embeddings=vocab_size, embedding_dim=embedding_dim)\n",
    "\n",
    "# Look up the embeddings for the input indices\n",
    "input_embeddings = embedding(input_indices)\n",
    "\n",
    "print(input_embeddings.shape)\n",
    "# Output: torch.Size([2, 3, 5])"
   ]
  }
 ],
 "metadata": {
  "kernelspec": {
   "display_name": "Python 3 (ipykernel)",
   "language": "python",
   "name": "python3"
  },
  "language_info": {
   "codemirror_mode": {
    "name": "ipython",
    "version": 3
   },
   "file_extension": ".py",
   "mimetype": "text/x-python",
   "name": "python",
   "nbconvert_exporter": "python",
   "pygments_lexer": "ipython3",
   "version": "3.8.10"
  }
 },
 "nbformat": 4,
 "nbformat_minor": 5
}
