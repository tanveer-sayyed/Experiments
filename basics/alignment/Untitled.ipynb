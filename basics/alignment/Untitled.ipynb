{
 "cells": [
  {
   "cell_type": "markdown",
   "id": "da4c4730-e668-4db3-91e6-205b5d1b384b",
   "metadata": {},
   "source": [
    "“generalized additive\n",
    "models,” first pioneered by statisticians Trevor Hastie and Robert Tibshirani\n",
    "in 1986."
   ]
  },
  {
   "cell_type": "markdown",
   "id": "cf9c42f7-a587-4d99-b0d5-13f040701c96",
   "metadata": {},
   "source": [
    "multitask learning"
   ]
  },
  {
   "cell_type": "code",
   "execution_count": null,
   "id": "8003a4d4-e573-4a9b-b596-4f86abe3afa4",
   "metadata": {},
   "outputs": [],
   "source": []
  }
 ],
 "metadata": {
  "kernelspec": {
   "display_name": "Python 3 (ipykernel)",
   "language": "python",
   "name": "python3"
  },
  "language_info": {
   "codemirror_mode": {
    "name": "ipython",
    "version": 3
   },
   "file_extension": ".py",
   "mimetype": "text/x-python",
   "name": "python",
   "nbconvert_exporter": "python",
   "pygments_lexer": "ipython3",
   "version": "3.8.10"
  }
 },
 "nbformat": 4,
 "nbformat_minor": 5
}
