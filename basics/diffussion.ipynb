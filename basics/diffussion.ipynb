{
 "cells": [
  {
   "cell_type": "markdown",
   "id": "6107ade5-18d6-427e-bd8c-a34f8c2fea7a",
   "metadata": {},
   "source": [
    "The generated images will be different each time this code is run due to the random initialization and diffusion noise"
   ]
  },
  {
   "cell_type": "code",
   "execution_count": null,
   "id": "ac8b242d-c421-4dae-8961-043ee9f05082",
   "metadata": {},
   "outputs": [],
   "source": [
    "import torch\n",
    "from fnet import FNetDiffusion\n",
    "from matplotlib import pyplot as plt\n",
    "\n",
    "# Load the diffusion model\n",
    "model = FNetDiffusion()\n",
    "\n",
    "# Define the number of timesteps and the diffusion noise schedule\n",
    "timesteps = 1000\n",
    "noise_schedule = \"linear\"\n",
    "\n",
    "# Generate a random initial image\n",
    "image = torch.randn(1, 3, 256, 256)\n",
    "\n",
    "# Diffuse the image over time\n",
    "for i in range(timesteps):\n",
    "    # Sample noise for the current timestep\n",
    "    noise = model.sample_noise(image.shape[-2:], i, noise_schedule)\n",
    "\n",
    "    # Diffuse the image\n",
    "    image = model.diffuse(image, noise)\n",
    "\n",
    "    # Display the generated image\n",
    "    plt.imshow(image[0].permute(1, 2, 0).clamp(0, 1))\n",
    "    plt.axis(\"off\")\n",
    "    plt.show()"
   ]
  }
 ],
 "metadata": {
  "kernelspec": {
   "display_name": "Python 3 (ipykernel)",
   "language": "python",
   "name": "python3"
  },
  "language_info": {
   "codemirror_mode": {
    "name": "ipython",
    "version": 3
   },
   "file_extension": ".py",
   "mimetype": "text/x-python",
   "name": "python",
   "nbconvert_exporter": "python",
   "pygments_lexer": "ipython3",
   "version": "3.8.10"
  }
 },
 "nbformat": 4,
 "nbformat_minor": 5
}
