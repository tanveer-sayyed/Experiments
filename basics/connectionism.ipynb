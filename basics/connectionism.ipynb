{
 "cells": [
  {
   "cell_type": "markdown",
   "id": "696f3d94-6b3e-4110-9da6-5316f21d570b",
   "metadata": {},
   "source": [
    "The central idea in connectionism is that a large number of simple computational\n",
    "units can achieve intelligent behavior when networked together. This insight\n",
    "applies equally to neurons in biological nervous systems and to hidden units in\n",
    "computational models."
   ]
  },
  {
   "cell_type": "markdown",
   "id": "6093a5a3-e928-4f65-a635-d365fd4eb659",
   "metadata": {},
   "source": [
    "One of these concepts is that of distributed representation (Hinton et al.,\n",
    "1986). This is the idea that each input to a system should be represented by\n",
    "many features, and each feature should be involved in the representation of many\n",
    "possible inputs."
   ]
  },
  {
   "cell_type": "markdown",
   "id": "86ed5ef4-c6d3-4090-91af-bf858f005bbc",
   "metadata": {},
   "source": [
    "For example, suppose we have a vision system that can recognize\n",
    "cars, trucks, and birds and these objects can each be red, green, or blue. One way\n",
    "of representing these inputs would be to have a separate neuron or hidden unit\n",
    "that activates for each of the nine possible combinations: red truck, red car, red\n",
    "bird, green truck, and so on. This requires nine diﬀerent neurons, and each neuron\n",
    "must independently learn the concept of color and object identity. One way to\n",
    "improve on this situation is to use a distributed representation, with three neurons\n",
    "describing the color and three neurons describing the object identity. This requires\n",
    "only six neurons total instead of nine."
   ]
  },
  {
   "cell_type": "markdown",
   "id": "3935bcae-3ecc-494f-938c-6a2b2f4141f9",
   "metadata": {},
   "source": [
    "Another major accomplishment of the connectionist movement was the successful use of back-propagation to train deep neural networks with internal repre-\n",
    "sentations and the popularization of the back-propagation algorithm (Rumelhart\n",
    "et al., 1986a ; LeCun , 1987 )."
   ]
  },
  {
   "cell_type": "markdown",
   "id": "e3a134c8-8c3a-4b5e-b229-1573f982d23f",
   "metadata": {},
   "source": [
    "During the 1990s, researchers made important advances in modeling sequences\n",
    "with neural networks. Hochreiter ( 1991 ) and Bengio et al. ( 1994 ) identiﬁed some of\n",
    "the fundamental mathematical diﬃculties in modeling long sequences. Hochreiter and Schmidhuber ( 1997 ) introduced the long short-term\n",
    "memory or LSTM network to resolve some of these diﬃculties. Today, the LSTM\n",
    "is widely used for many sequence modeling tasks, including many natural language\n",
    "processing tasks at Google."
   ]
  },
  {
   "cell_type": "code",
   "execution_count": null,
   "id": "000c8ac4-9ad4-428f-94a7-3de3499ea996",
   "metadata": {},
   "outputs": [],
   "source": []
  }
 ],
 "metadata": {
  "kernelspec": {
   "display_name": "Python 3 (ipykernel)",
   "language": "python",
   "name": "python3"
  },
  "language_info": {
   "codemirror_mode": {
    "name": "ipython",
    "version": 3
   },
   "file_extension": ".py",
   "mimetype": "text/x-python",
   "name": "python",
   "nbconvert_exporter": "python",
   "pygments_lexer": "ipython3",
   "version": "3.8.10"
  }
 },
 "nbformat": 4,
 "nbformat_minor": 5
}
