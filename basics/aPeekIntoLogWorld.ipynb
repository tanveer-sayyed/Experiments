{
 "cells": [
  {
   "cell_type": "markdown",
   "id": "c93e4db8-1a72-438b-82e0-3e839dbe6992",
   "metadata": {},
   "source": [
    "Mitigating Neural Network Overconfidence with Logit Normalization"
   ]
  },
  {
   "cell_type": "code",
   "execution_count": 24,
   "id": "31d4a4b9-bcc1-4660-9282-81846d7ab87b",
   "metadata": {},
   "outputs": [],
   "source": [
    "from numpy import exp, max, sum, linspace, log\n",
    "from matplotlib import pyplot as plt\n",
    "our_space = linspace(0.1,1,1000)"
   ]
  },
  {
   "cell_type": "markdown",
   "id": "2a107576-8e68-46bf-a434-febe037dec61",
   "metadata": {},
   "source": [
    "# The log curve"
   ]
  },
  {
   "cell_type": "code",
   "execution_count": 25,
   "id": "490d3e0a-5bbd-4ac0-a518-7ed0e4b9686a",
   "metadata": {},
   "outputs": [
    {
     "data": {
      "image/png": "[encoded data removed]",
      "text/plain": [
       "<Figure size 432x288 with 1 Axes>"
      ]
     },
     "metadata": {
      "needs_background": "light"
     },
     "output_type": "display_data"
    }
   ],
   "source": [
    "plt.plot(log(our_space), color=\"orange\",label=\"log curve\")\n",
    "plt.axhline(0, color=\"black\", linestyle=\"--\")\n",
    "plt.legend(loc=4)\n",
    "plt.show()"
   ]
  },
  {
   "cell_type": "markdown",
   "id": "aa6b73fa-078e-4b6e-90b6-3212611b48d2",
   "metadata": {},
   "source": [
    "# The beauty of logits"
   ]
  },
  {
   "cell_type": "markdown",
   "id": "1c6e69bc-02d4-4f06-a83a-8fb884a3a94f",
   "metadata": {},
   "source": [
    "Range of probability is only between [0,1].\n",
    "\n",
    "Can we even extend this range?\n",
    "\n",
    "Say we have an event-e, whose probability of occurring is 0.99999999(i.e. p) and (thus) probability of not occurring would be 0.00000001(i.e. 1-p).\n",
    "<br>\n",
    "Now let's take the odds, that is, either divide p/(1-p) or (1-p)/p:\n",
    "<br>\n",
    " - winning odds = 0.99999999/0.00000001 = 99999999 (treat this as +ve infinity)\n",
    "<br>\n",
    " - loosing odds = 0.00000001/0.99999999 = almost zero"
   ]
  },
  {
   "cell_type": "markdown",
   "id": "70c89040-d96b-4dfb-a9f7-af63d19051b1",
   "metadata": {},
   "source": [
    "#### --- Why do we take log of the odds?"
   ]
  },
  {
   "cell_type": "markdown",
   "id": "24b42019-c3c9-4789-be07-509a85b73c38",
   "metadata": {},
   "source": [
    "The basic purpose of logarithmic function is compression or to take away powers of a number i.e. opposite of exponentiation (which gives powers to a number). Even here the purpose is the same extremely long numbers(nearing +ve infinity) can be compressed while extremely small numbers can go upto -ve infinity.\n",
    "\n",
    "Thus we have our new range of probability, but in logarithmic world, as:\n",
    "<br>\n",
    "(-infinity, +infinity)!"
   ]
  },
  {
   "cell_type": "code",
   "execution_count": 13,
   "id": "b1955aac-f660-4c6c-929c-4c265076d535",
   "metadata": {},
   "outputs": [
    {
     "name": "stdout",
     "output_type": "stream",
     "text": [
      "-1.3862943611198906\n",
      "-0.4054651081081643\n",
      "0.4054651081081642\n",
      "1.3862943611198908\n"
     ]
    }
   ],
   "source": [
    "def logit(p):\n",
    "    return log(p/(1-p))\n",
    "\n",
    "print(logit(0.2))\n",
    "print(logit(0.4))\n",
    "print(logit(0.6))\n",
    "print(logit(0.8))"
   ]
  },
  {
   "cell_type": "markdown",
   "id": "cfe611f6-de32-48f3-b8ae-10af3866e4f1",
   "metadata": {},
   "source": [
    "#### --- And there is more..."
   ]
  },
  {
   "cell_type": "markdown",
   "id": "f625ab9b-a692-432b-9dd0-3c7174b6a960",
   "metadata": {},
   "source": [
    "Despite using probabilities we can train a model based on a loss function that is based on logits"
   ]
  },
  {
   "cell_type": "code",
   "execution_count": null,
   "id": "08a26f94-e2fb-465e-9598-3ab3b7cb95e5",
   "metadata": {},
   "outputs": [],
   "source": []
  },
  {
   "cell_type": "code",
   "execution_count": null,
   "id": "4f4a9a89-3b33-44d7-890d-aa75f08e541d",
   "metadata": {},
   "outputs": [],
   "source": []
  },
  {
   "cell_type": "code",
   "execution_count": 5,
   "id": "54226733-0d0a-4367-98d5-95ffb7bd6733",
   "metadata": {},
   "outputs": [
    {
     "data": {
      "text/plain": [
       "0.010101010101010102"
      ]
     },
     "execution_count": 5,
     "metadata": {},
     "output_type": "execute_result"
    }
   ],
   "source": [
    "0.01/0.99"
   ]
  },
  {
   "cell_type": "code",
   "execution_count": 38,
   "id": "515b57f6-71e8-4237-b3d3-fabc1e5f4f4d",
   "metadata": {},
   "outputs": [],
   "source": [
    "# def softmax(x):\n",
    "#     exp_x = exp(x - max(x, axis=-1, keepdims=True))\n",
    "#     return exp_x / sum(exp_x, axis=-1, keepdims=True)"
   ]
  },
  {
   "cell_type": "code",
   "execution_count": null,
   "id": "41176b98-a893-432a-9568-18f1b7f0c433",
   "metadata": {},
   "outputs": [],
   "source": [
    "log(exp"
   ]
  }
 ],
 "metadata": {
  "kernelspec": {
   "display_name": "Python 3 (ipykernel)",
   "language": "python",
   "name": "python3"
  },
  "language_info": {
   "codemirror_mode": {
    "name": "ipython",
    "version": 3
   },
   "file_extension": ".py",
   "mimetype": "text/x-python",
   "name": "python",
   "nbconvert_exporter": "python",
   "pygments_lexer": "ipython3",
   "version": "3.8.10"
  }
 },
 "nbformat": 4,
 "nbformat_minor": 5
}
