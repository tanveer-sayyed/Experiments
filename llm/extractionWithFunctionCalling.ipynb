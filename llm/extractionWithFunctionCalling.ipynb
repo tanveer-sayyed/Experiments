{
 "cells": [
  {
   "cell_type": "code",
   "execution_count": 2,
   "id": "11c570a8-60ca-434f-b1ee-aba64dfb4706",
   "metadata": {},
   "outputs": [
    {
     "name": "stderr",
     "output_type": "stream",
     "text": [
      "USER_AGENT environment variable not set, consider setting it to identify your requests.\n"
     ]
    }
   ],
   "source": [
    "from instructor import Mode, patch\n",
    "from langchain.document_loaders import WebBaseLoader\n",
    "from openai import OpenAI\n",
    "from pydantic import BaseModel, Field\n",
    "from typing import List\n",
    "\n",
    "loader = WebBaseLoader(\"https://en.wikipedia.org/wiki/India\")\n",
    "content = loader.load()[0].page_content[:10000]"
   ]
  },
  {
   "cell_type": "code",
   "execution_count": 6,
   "id": "cf61f89c-82e2-4f2d-a22e-063dba819d5a",
   "metadata": {},
   "outputs": [],
   "source": [
    "class Summary(BaseModel):\n",
    "    summary: str = Field(description=\"provide a brief summary of the content.\")\n",
    "    keywords: str = Field(description=\"provide keywords related to the content.\")"
   ]
  },
  {
   "cell_type": "code",
   "execution_count": 7,
   "id": "b81bb458-6456-4216-8827-dfc6e90121a1",
   "metadata": {},
   "outputs": [],
   "source": [
    "client = patch(\n",
    "    OpenAI(base_url=\"http://localhost:11434/v1\", api_key=\"api_key\"),\n",
    "    mode=Mode.JSON,\n",
    ")"
   ]
  },
  {
   "cell_type": "code",
   "execution_count": 9,
   "id": "d4bc3b36-b504-41a8-aaa2-516ea4ccd9da",
   "metadata": {},
   "outputs": [
    {
     "name": "stdout",
     "output_type": "stream",
     "text": [
      "{\n",
      "    \"summary\": \"A brief overview of India including geographic and demographic details, legislative structure, executive leaders, historical timeline, economic data, currency, time zone, driving side, internet TLD, calling code, date format, Gini index, HDI rank, languages spoken, religions, neighboring countries, major cities, and a brief history.\",\n",
      "    \"keywords\": \"India, Republic of India, IN, South Asia, Rajya Sabha, Lok Sabha, President Droupadi Murmu, Vice President Jagdeep Dhankhar, Prime Minister Narendra Modi, 15 August 1947 (Dominion), 26 January 1950, Indian rupee (INR), UTC+05:30 (IST), left, .in (others), +91, dd-mm-yyyy, 32.8, 134, Sanskrit, Buddhism, Jainism\"\n",
      "}\n"
     ]
    }
   ],
   "source": [
    "resp = client.chat.completions.create(\n",
    "    model=\"mistralLong\",\n",
    "    messages=[\n",
    "        {\n",
    "            \"role\": \"user\",\n",
    "            \"content\": content\n",
    "        }\n",
    "    ],\n",
    "    response_model=Summary,\n",
    "    max_retries=3\n",
    ")\n",
    "print(resp.model_dump_json(indent=4))"
   ]
  }
 ],
 "metadata": {
  "kernelspec": {
   "display_name": "Python 3 (ipykernel)",
   "language": "python",
   "name": "python3"
  },
  "language_info": {
   "codemirror_mode": {
    "name": "ipython",
    "version": 3
   },
   "file_extension": ".py",
   "mimetype": "text/x-python",
   "name": "python",
   "nbconvert_exporter": "python",
   "pygments_lexer": "ipython3",
   "version": "3.10.14"
  }
 },
 "nbformat": 4,
 "nbformat_minor": 5
}
