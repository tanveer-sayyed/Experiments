{
 "cells": [
  {
   "cell_type": "code",
   "execution_count": 1,
   "id": "6f6ef51a-2e0c-43f0-8d11-40820bb4c797",
   "metadata": {},
   "outputs": [],
   "source": [
    "from instructor import Mode, patch\n",
    "from openai import OpenAI\n",
    "from pydantic import BaseModel, Field\n",
    "from typing import List\n",
    "from langchain.agents import tool\n",
    "from langchain.chains.openai_functions.openapi import openapi_spec_to_openai_fn\n",
    "\n",
    "COUNTRY = \"India\""
   ]
  },
  {
   "cell_type": "code",
   "execution_count": 2,
   "id": "ef48c2bc-e592-4373-8d28-a07f858ec1d5",
   "metadata": {},
   "outputs": [],
   "source": [
    "class CurrencySearch(BaseModel):\n",
    "    symbol: str = Field(description=\"symbol of the currency\")"
   ]
  },
  {
   "cell_type": "code",
   "execution_count": 3,
   "id": "a45d75ac-f3ff-4d8b-8b37-428484952fe6",
   "metadata": {},
   "outputs": [],
   "source": [
    "@tool(args_schema=CurrencySearch)\n",
    "def search(query: str) -> dict:\n",
    "    \"\"\"search for currecny online.\"\"\"\n",
    "    try: response = requeust.get(f\"http://currency.api/{query}\") # fake API\n",
    "    except: response = {\n",
    "        \"currency\": \"Indian Rupee (INR)\",\n",
    "        \"symbol\": \"₹\"\n",
    "    }\n",
    "    return response"
   ]
  },
  {
   "cell_type": "code",
   "execution_count": 4,
   "id": "73be0795-8c37-4716-8cba-5b5ebdb07244",
   "metadata": {},
   "outputs": [
    {
     "name": "stdout",
     "output_type": "stream",
     "text": [
      "search\n",
      "search for currecny online.\n",
      "{'symbol': {'description': 'symbol of the currency', 'title': 'Symbol', 'type': 'string'}}\n"
     ]
    }
   ],
   "source": [
    "print(search.name)\n",
    "print(search.description)\n",
    "print(search.args)"
   ]
  },
  {
   "cell_type": "code",
   "execution_count": 5,
   "id": "4bbb1509-cab9-4c06-b25a-3ccdc3b0e528",
   "metadata": {},
   "outputs": [
    {
     "data": {
      "text/plain": [
       "{'currency': 'Indian Rupee (INR)', 'symbol': '₹'}"
      ]
     },
     "execution_count": 5,
     "metadata": {},
     "output_type": "execute_result"
    }
   ],
   "source": [
    "search.run(COUNTRY)"
   ]
  },
  {
   "cell_type": "code",
   "execution_count": 7,
   "id": "95995ca2-48d2-4f88-9194-c443aa520164",
   "metadata": {},
   "outputs": [
    {
     "data": {
      "text/plain": [
       "{'name': 'search',\n",
       " 'description': 'search for currecny online.',\n",
       " 'parameters': {'properties': {'symbol': {'description': 'symbol of the currency',\n",
       "    'type': 'string'}},\n",
       "  'required': ['symbol'],\n",
       "  'type': 'object'}}"
      ]
     },
     "execution_count": 7,
     "metadata": {},
     "output_type": "execute_result"
    }
   ],
   "source": [
    "from langchain_core.utils.function_calling import convert_to_openai_function\n",
    "convert_to_openai_function(search)"
   ]
  }
 ],
 "metadata": {
  "kernelspec": {
   "display_name": "Python 3 (ipykernel)",
   "language": "python",
   "name": "python3"
  },
  "language_info": {
   "codemirror_mode": {
    "name": "ipython",
    "version": 3
   },
   "file_extension": ".py",
   "mimetype": "text/x-python",
   "name": "python",
   "nbconvert_exporter": "python",
   "pygments_lexer": "ipython3",
   "version": "3.10.14"
  }
 },
 "nbformat": 4,
 "nbformat_minor": 5
}
