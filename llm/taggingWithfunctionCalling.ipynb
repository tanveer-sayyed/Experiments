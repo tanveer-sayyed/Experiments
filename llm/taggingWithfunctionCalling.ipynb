{
 "cells": [
  {
   "cell_type": "code",
   "execution_count": 1,
   "id": "62d9bb48-4664-4827-94a3-a4f72de714fb",
   "metadata": {},
   "outputs": [],
   "source": [
    "from instructor import Mode, patch\n",
    "from openai import OpenAI\n",
    "from pydantic import BaseModel, Field\n",
    "from typing import List\n",
    "\n",
    "COUNTRY = \"India\""
   ]
  },
  {
   "cell_type": "code",
   "execution_count": 2,
   "id": "24874d35-c044-4c52-9b55-f85f4e433eb1",
   "metadata": {},
   "outputs": [],
   "source": [
    "class CurrencySearch(BaseModel):\n",
    "    currency: str = Field(description=\"standard currency of the country\")\n",
    "    symbol: str = Field(description=\"symbol of the currency\")"
   ]
  },
  {
   "cell_type": "code",
   "execution_count": 3,
   "id": "a5cbcaaf-662e-4ff3-a187-16b20487bd71",
   "metadata": {},
   "outputs": [],
   "source": [
    "client = patch(\n",
    "    OpenAI(base_url=\"http://localhost:11434/v1\", api_key=\"api_key\"),\n",
    "    mode=Mode.JSON,\n",
    ")"
   ]
  },
  {
   "cell_type": "code",
   "execution_count": 4,
   "id": "98a6a733-abc0-454e-aae3-bea4f0904791",
   "metadata": {},
   "outputs": [
    {
     "name": "stdout",
     "output_type": "stream",
     "text": [
      "{\n",
      "    \"currency\": \"Indian Rupee (INR)\",\n",
      "    \"symbol\": \"₹\"\n",
      "}\n"
     ]
    }
   ],
   "source": [
    "resp = client.chat.completions.create(\n",
    "    model=\"mistralLong\",\n",
    "    messages=[\n",
    "        {\n",
    "            \"role\": \"user\",\n",
    "            \"content\": f\"Return the currency and its symbol for the country {COUNTRY}.\"\n",
    "        }\n",
    "    ],\n",
    "    response_model=CurrencySearch,\n",
    "    max_retries=10\n",
    ")\n",
    "print(resp.model_dump_json(indent=4))"
   ]
  }
 ],
 "metadata": {
  "kernelspec": {
   "display_name": "Python 3 (ipykernel)",
   "language": "python",
   "name": "python3"
  },
  "language_info": {
   "codemirror_mode": {
    "name": "ipython",
    "version": 3
   },
   "file_extension": ".py",
   "mimetype": "text/x-python",
   "name": "python",
   "nbconvert_exporter": "python",
   "pygments_lexer": "ipython3",
   "version": "3.10.14"
  }
 },
 "nbformat": 4,
 "nbformat_minor": 5
}
